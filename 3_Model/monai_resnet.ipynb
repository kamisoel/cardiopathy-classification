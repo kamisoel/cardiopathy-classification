{
 "cells": [
  {
   "cell_type": "markdown",
   "metadata": {},
   "source": [
    "# Model Definition and Evaluation\n",
    "## Table of Contents\n",
    "1. [Model Selection](#model-selection)\n",
    "2. [Feature Engineering](#feature-engineering)\n",
    "3. [Hyperparameter Tuning](#hyperparameter-tuning)\n",
    "4. [Implementation](#implementation)\n",
    "5. [Evaluation Metrics](#evaluation-metrics)\n",
    "6. [Comparative Analysis](#comparative-analysis)\n"
   ]
  },
  {
   "metadata": {
    "ExecuteTime": {
     "end_time": "2025-02-08T16:10:39.725822Z",
     "start_time": "2025-02-08T16:10:28.474480Z"
    }
   },
   "cell_type": "code",
   "source": [
    "%load_ext autoreload\n",
    "%autoreload complete\n",
    "\n",
    "import random\n",
    "from pathlib import Path\n",
    "import rich\n",
    "\n",
    "import torch\n",
    "import torch.nn as nn\n",
    "import torch.nn.functional as F\n",
    "from torch.utils.data import Subset\n",
    "import pytorch_lightning as pl\n",
    "\n",
    "import monai\n",
    "from monai import transforms\n",
    "import custom_transforms\n",
    "from monai.data import Dataset, CacheDataset, DataLoader\n",
    "\n",
    "from torch.optim import AdamW\n",
    "from torch.nn import CrossEntropyLoss\n",
    "from torchmetrics import MetricCollection\n",
    "from torchmetrics.classification import (MulticlassAccuracy, MulticlassPrecision,\n",
    "                                         MulticlassRecall, MulticlassF1Score,\n",
    "                                         MulticlassConfusionMatrix)\n",
    "\n",
    "from sklearn.model_selection import train_test_split\n",
    "\n",
    "import numpy as np\n",
    "import pandas as pd\n",
    "import matplotlib.pyplot as plt\n",
    "import seaborn as sns\n",
    "\n",
    "from data import data_helper\n",
    "from data.data_helper import Phase\n",
    "\n",
    "sns.set_theme()\n",
    "plt.rcParams[\"figure.figsize\"] = 12, 8\n",
    "monai.utils.set_determinism()\n",
    "\n",
    "data_folder = '../data/train/'"
   ],
   "outputs": [],
   "execution_count": 2
  },
  {
   "metadata": {},
   "cell_type": "markdown",
   "source": [
    "## Model Selection\n",
    "\n",
    "[Discuss the type(s) of models you consider for this task, and justify the selection.]\n",
    "\n"
   ]
  },
  {
   "cell_type": "markdown",
   "metadata": {},
   "source": [
    "## Feature Engineering\n",
    "\n",
    "[Describe any additional feature engineering you've performed beyond what was done for the baseline model.]\n"
   ]
  },
  {
   "metadata": {
    "ExecuteTime": {
     "end_time": "2025-02-08T16:13:57.901332Z",
     "start_time": "2025-02-08T16:13:57.630618Z"
    }
   },
   "cell_type": "code",
   "source": [
    "train_data = pd.DataFrame(data_helper.load_all_patients(data_folder, return_df=True)).reset_index()\n",
    "mask_labels = ['RV', 'MC', 'LV']\n",
    "class_labels = ['NOR', 'MINF', 'DCM', 'HCM', 'RV']\n",
    "\n",
    "clabel2id_map = {value:key for key, value in enumerate(class_labels)}\n",
    "train_data['label_id'] = train_data['label'].map(clabel2id_map)\n",
    "train_data = train_data.to_dict('records')"
   ],
   "outputs": [],
   "execution_count": 6
  },
  {
   "metadata": {
    "ExecuteTime": {
     "end_time": "2025-02-05T22:08:28.328238Z",
     "start_time": "2025-02-05T22:08:28.100183Z"
    }
   },
   "cell_type": "code",
   "source": "train_data[:1]",
   "outputs": [
    {
     "data": {
      "text/plain": [
       "[{'id': 'p0001',\n",
       "  'label': 'NOR',\n",
       "  'sys': WindowsPath('../data/train/p0001/p0001_frame01.nii.gz'),\n",
       "  'sys_seg': WindowsPath('../data/train/p0001/p0001_frame01_gt.nii.gz'),\n",
       "  'dia': WindowsPath('../data/train/p0001/p0001_frame06.nii.gz'),\n",
       "  'dia_seg': WindowsPath('../data/train/p0001/p0001_frame06_gt.nii.gz'),\n",
       "  'label_id': 0}]"
      ]
     },
     "execution_count": 32,
     "metadata": {},
     "output_type": "execute_result"
    }
   ],
   "execution_count": 32
  },
  {
   "metadata": {
    "ExecuteTime": {
     "end_time": "2025-02-08T16:35:02.429420Z",
     "start_time": "2025-02-08T16:34:59.903925Z"
    }
   },
   "cell_type": "code",
   "source": [
    "trfm = transforms.Compose([\n",
    "    transforms.LoadImaged(['sys', 'sys_seg', 'dia', 'dia_seg'],\n",
    "                          image_only=False, ensure_channel_first=True),\n",
    "    # concat the two input images / seg masks as channels\n",
    "    transforms.ConcatItemsd(['sys', 'dia'], name='img', dim=0),\n",
    "    transforms.ConcatItemsd(['sys_seg', 'dia_seg'], name='seg', dim=0),\n",
    "    transforms.DeleteItemsd(['sys', 'dia', 'sys_seg', 'dia_seg']),\n",
    "    # normalize the orientation in space\n",
    "    transforms.Orientationd(['img','seg'], 'SPL'),\n",
    "    custom_transforms.EllipseFitRotated(['img','seg'], mask_key='seg', depth_axis=0, rot90_only=False),\n",
    "    # crop the images to the bounding box given by the seg mask\n",
    "    transforms.CropForegroundd([\"img\", \"seg\"], source_key=\"seg\",\n",
    "                                     select_fn=lambda x: x > 0, allow_smaller=False),\n",
    "    # normalize intensity between images and scale to [0,1]\n",
    "    # custom_transforms.AdaptiveHistogramNormalized(['img'], clip_limit=.01),\n",
    "    #transforms.HistogramNormalized(['img'], mask_key='seg'),\n",
    "    # use the segmentations to mask the images - this will result in 1 channel per label\n",
    "    #custom_transforms.MultiMaskIntensityd(keys=['img'], mask_key='seg', select_labels=[1,2,3]),\n",
    "    # alternative just mask out the background\n",
    "    # transforms.MaskIntensityd(keys=['img'], mask_key='seg'),\n",
    "    transforms.SelectItemsD(['img', 'seg', 'label', 'label_id', 'id']),# 'seg']),\n",
    "    transforms.Spacingd(['img', 'seg'], pixdim=(5, 1.5, 1.5)),\n",
    "    #transforms.Resized(['img'], spatial_size=(16, 64, 64)),\n",
    "    # transforms.ResizeWithPadOrCropd(['img', 'seg'], spatial_size=(20, 100, 100), allow_missing_keys=True),\n",
    "    #transforms.RandRotate90d(['img', 'seg'], spatial_axes=(1,2)),\n",
    "])\n",
    "\n",
    "#data = random.choice(train_data)\n",
    "data = train_data[2]\n",
    "data_trans = trfm(data)\n",
    "#data = trfm(train_data[0])\n",
    "print(list(data_trans.keys()))\n",
    "print(f\"Subject: {data_trans['id']}\")\n",
    "# print(f\"True label: {data_trans['label_id']} ({data_trans['label']})\")\n",
    "print(\"Shape:\", data_trans['img'].shape)\n",
    "n = data_trans['img'].shape[1]\n",
    "monai.visualize.matshow3d(data_trans['img'][:, n//2])\n",
    "#monai.visualize.matshow3d(data_trans['seg'][:, n//2]);\n",
    "plt.show()\n",
    "# TODO: is there a missing mask in dia frame 0?"
   ],
   "outputs": [
    {
     "name": "stdout",
     "output_type": "stream",
     "text": [
      "tensor([177.5805,   0.0000,   0.0000])\n",
      "tensor([177.5805,   0.0000,   0.0000])\n",
      "['img', 'seg', 'label', 'label_id', 'id']\n",
      "Subject: p0003\n",
      "Shape: torch.Size([2, 15, 80, 77])\n"
     ]
    },
    {
     "data": {
      "text/plain": [
       "<Figure size 1000x1000 with 1 Axes>"
      ],
      "image/png": "[encoded data removed]"
     },
     "metadata": {},
     "output_type": "display_data"
    }
   ],
   "execution_count": 33
  },
  {
   "metadata": {},
   "cell_type": "markdown",
   "source": "## Implementation"
  },
  {
   "metadata": {},
   "cell_type": "markdown",
   "source": [
    "First we need a DataModule to load the data, preprocess it and serve batches to our model.\n",
    "As seen above Monai already implements a lot of the transformations needed. Three custom ones are implemented for the more specialised processings.\n",
    "To test the optimal preprocessing the class is configurable by a lot of parameter settings."
   ]
  },
  {
   "metadata": {
    "ExecuteTime": {
     "end_time": "2025-02-08T16:10:39.967252Z",
     "start_time": "2025-02-08T16:10:39.725822Z"
    }
   },
   "cell_type": "code",
   "source": [
    "class MRIDataModule(pl.LightningDataModule):\n",
    "    def __init__(self, data_folder, batch_size, train_val_ratio=0.8, use_cache=True,\n",
    "                 orient='SPL', crop_foreground=True, register_heart_axis=False,\n",
    "                 intensity_norm='adaptive', mask_intensity=None, clip_percentiles=(0.5,99.5),\n",
    "                 spacing=(5,2,2), use_pad=False, spatial_size=None, augmentations=None, concat_dim=0):\n",
    "        super().__init__()\n",
    "        self.batch_size = batch_size\n",
    "        self.data_folder = Path(data_folder)\n",
    "        self.train_val_ratio = train_val_ratio\n",
    "        self.use_cache = use_cache\n",
    "        self.orient = orient\n",
    "        self.crop_foreground = crop_foreground\n",
    "        self.register_heart_axis = register_heart_axis\n",
    "        self.intensity_norm = intensity_norm\n",
    "        self.mask_intensity = mask_intensity\n",
    "        self.clip_percentiles = clip_percentiles\n",
    "        self.spacing = spacing\n",
    "        self.use_pad = use_pad\n",
    "        self.spatial_size = (spatial_size if spatial_size is not None\n",
    "                             else self._recommended_spatial_size())\n",
    "        self.concat_dim = concat_dim\n",
    "\n",
    "        self.labels = ['NOR', 'MINF', 'DCM', 'HCM', 'RV']\n",
    "        self.n_classes = len(self.labels)\n",
    "\n",
    "        self.save_hyperparameters()\n",
    "\n",
    "        # basic loading transforms\n",
    "        transform = [\n",
    "            transforms.ToTensord(['label'], allow_missing_keys=True),\n",
    "            ## load the 3D-Tensors with their corresponding segmentations masks from nii.gz format\n",
    "            transforms.LoadImaged(keys=['sys', 'sys_seg', 'dia', 'dia_seg'], ensure_channel_first=True),\n",
    "            ## concat the two input images / seg masks as channels\n",
    "            transforms.ConcatItemsd(keys=['sys', 'dia'], name='img', dim=concat_dim),\n",
    "            transforms.ConcatItemsd(keys=['sys_seg', 'dia_seg'], name='seg', dim=concat_dim),\n",
    "            transforms.DeleteItemsd(['sys', 'dia', 'sys_seg', 'dia_seg']),\n",
    "            ## normalize the orientation in space\n",
    "            transforms.Orientationd(keys=['img','seg'], axcodes='SPL'),\n",
    "            ## some images are rotated and have wrong metadata --> complicated fix\n",
    "            custom_transforms.EllipseFitRotated(['img','seg'], mask_key='seg', depth_axis=0,\n",
    "                                                rot90_only=(not register_heart_axis)),\n",
    "        ]\n",
    "\n",
    "        if clip_percentiles is not None and len(clip_percentiles) == 2:\n",
    "            ## perform soft clipping of the given low and high percentile\n",
    "            transform.append(transforms.ClipIntensityPercentilesd(['img'], *clip_percentiles, sharpness_factor=5))\n",
    "\n",
    "        ## normalize intensity between images and scale to [0,1]\n",
    "        if intensity_norm == 'linear':\n",
    "            # linearly scale to [0,1] - clipping via clip_percentile is recommended\n",
    "            transform.append(transforms.ScaleIntensityd(['img'], channel_wise=True))\n",
    "        if intensity_norm == 'znorm':\n",
    "            # linearly scale to [0,1] - clipping via clip_percentile is recommended\n",
    "            transform.append(transforms.NormalizeIntensity(['img'], channel_wise=True))\n",
    "        elif intensity_norm == 'histogram':\n",
    "            # use Histogram Normalization for scaling - clipping via clip_percentile is recommended\n",
    "            transform.append(transforms.HistogramNormalized(['img'], min=0, max=1))\n",
    "        elif intensity_norm == 'adaptive':\n",
    "            # use sklearn's Adaptive Histogram Normalization (CLAHE) - clipping is not necessary\n",
    "            transform.append(custom_transforms.AdaptiveHistogramNormalized(['img']))\n",
    "\n",
    "        if crop_foreground:\n",
    "            ## crop the images to the bounding box given by the seg mask\n",
    "            transform.append(transforms.CropForegroundd(keys=['img', 'seg'], source_key='seg', allow_smaller=False),)\n",
    "\n",
    "        if mask_intensity == 'single':\n",
    "            self.n_channels = 2\n",
    "            transform.append(transforms.MaskIntensityd(['img'], mask_key='seg'))\n",
    "        elif mask_intensity == 'multi':\n",
    "            self.n_channels = 6\n",
    "            transform.append(custom_transforms.MultiMaskIntensityd(['img'], mask_key='seg', select_labels=[1,2,3]),)\n",
    "        else:\n",
    "            self.n_channels = 2\n",
    "\n",
    "        # normalize spacing / zoom\n",
    "        transform.append(transforms.Spacingd(['img'], pixdim=spacing))\n",
    "        # scale by padding or resizing\n",
    "        if use_pad:\n",
    "            transform.append(transforms.ResizeWithPadOrCropd(['img'], spatial_size=self.spatial_size, allow_missing_keys=True))\n",
    "        else:\n",
    "            transform.append(transforms.Resized(['img'], spatial_size=self.spatial_size))\n",
    "        # delete unnecessary items\n",
    "        transform.append(transforms.SelectItemsd(['label', 'img'], allow_missing_keys=True))\n",
    "\n",
    "        self.transform = transforms.Compose(transform)\n",
    "\n",
    "        self.train_transform = (transforms.Compose([*transform, augmentations])\n",
    "                                if augmentations is not None else self.transform)\n",
    "        self.train_set = None\n",
    "        self.val_set = None\n",
    "        self.test_set = None\n",
    "\n",
    "\n",
    "    # based on empirical data ;)\n",
    "    def _recommended_spatial_size(self):\n",
    "        _scaling_factor = np.array([5,1,1]) / np.array(self.spacing)\n",
    "        spatial_size = None\n",
    "        if self.crop_foreground:\n",
    "            spatial_size = np.array([22, 140, 150]) * _scaling_factor\n",
    "        else:\n",
    "            spatial_size = np.array([22, 500, 430])  * _scaling_factor\n",
    "        return spatial_size\n",
    "\n",
    "\n",
    "    def _get_data(self, data_dir):\n",
    "        data = data_helper.load_all_patients(data_dir, return_df=True)\n",
    "        if 'label' in data.columns:\n",
    "            data['label'] = data['label'].map(self.labels.index)\n",
    "        return data.to_dict('records')\n",
    "\n",
    "\n",
    "    # Monai's CacheDataset caches the static preprocessing and thus saves a lot of time\n",
    "    def _create_dataset(self, data, transform):\n",
    "        if self.use_cache:\n",
    "            return CacheDataset(\n",
    "                data=data,\n",
    "                transform=transform,\n",
    "                cache_rate=1.0,\n",
    "                num_workers=2,\n",
    "                progress=False,\n",
    "            )\n",
    "        else:\n",
    "            return Dataset(\n",
    "                data=data,\n",
    "                transform=transform,\n",
    "            )\n",
    "\n",
    "    def setup(self, stage=None):\n",
    "        if stage == \"fit\" and self.train_set is None:\n",
    "            train_dir = self.data_folder / 'train'\n",
    "            train_data = self._get_data(train_dir)\n",
    "            train_targets = [data['label'] for data in train_data]\n",
    "            #train_idx, val_idx = train_test_split(range(len(train_targets)), train_size=0.8, stratify=train_targets)\n",
    "            train_set, val_set = train_test_split(train_data, train_size=0.8, stratify=train_targets)\n",
    "            self.train_set = self._create_dataset(train_set, self.train_transform)\n",
    "            self.val_set = self._create_dataset(val_set, self.transform)\n",
    "        if stage == \"predict\" and self.test_set is None:\n",
    "            test_dir = self.data_folder / 'test'\n",
    "            test_data = self._get_data(test_dir)\n",
    "            self.test_set = self._create_dataset(test_data, self.transform)\n",
    "\n",
    "\n",
    "    def train_dataloader(self):\n",
    "        return DataLoader(\n",
    "            self.train_set,\n",
    "            #collate_fn = list_data_collate,\n",
    "            batch_size = self.batch_size,\n",
    "            shuffle = True,\n",
    "            num_workers = 2,\n",
    "            persistent_workers=True,\n",
    "        )\n",
    "\n",
    "    def val_dataloader(self):\n",
    "        return DataLoader(\n",
    "            self.val_set,\n",
    "            #collate_fn = list_data_collate,\n",
    "            batch_size = len(self.val_set), # 1\n",
    "            num_workers = 2,\n",
    "            persistent_workers=True,\n",
    "        )\n",
    "\n",
    "    def predict_dataloader(self):\n",
    "        return DataLoader(\n",
    "            self.test_set,\n",
    "            #collate_fn = list_data_collate,\n",
    "            batch_size = 1,\n",
    "            num_workers = 2,\n",
    "        )"
   ],
   "outputs": [],
   "execution_count": 3
  },
  {
   "metadata": {},
   "cell_type": "markdown",
   "source": "Training logic is mainly handled by Lightning. The LightningModule mainly serves as an interface and configuration, e.g. for metric logging"
  },
  {
   "metadata": {
    "ExecuteTime": {
     "end_time": "2025-02-08T17:35:57.123435Z",
     "start_time": "2025-02-08T17:35:56.859412Z"
    }
   },
   "cell_type": "code",
   "source": [
    "class MRI_Model(pl.LightningModule):\n",
    "    def __init__(self, net, class_labels, criterion=CrossEntropyLoss,\n",
    "                 learning_rate=3e-4, weight_decay=0.01, optimizer_class=AdamW,\n",
    "                 log_confusion_matrix=True):\n",
    "        super().__init__()\n",
    "        self.lr = learning_rate\n",
    "        self.wd = weight_decay\n",
    "        self.net = net\n",
    "        self.criterion = criterion()\n",
    "        self.optimizer_class = optimizer_class\n",
    "        self.class_labels = class_labels\n",
    "        self.num_classes = len(self.class_labels)\n",
    "\n",
    "        self.save_hyperparameters(ignore=['net'])\n",
    "\n",
    "        metrics = MetricCollection({\n",
    "            'F1_score': MulticlassF1Score(num_classes=self.num_classes, average='weighted'),\n",
    "            'Accuracy': MulticlassAccuracy(num_classes=self.num_classes, average='macro'),\n",
    "            'Precision': MulticlassPrecision(num_classes=self.num_classes, average='macro'),\n",
    "            'Recall': MulticlassRecall(num_classes=self.num_classes, average='macro')\n",
    "        })\n",
    "        self.train_metrics = metrics.clone(postfix='/Train')\n",
    "        self.valid_metrics = metrics.clone(postfix='/Val')\n",
    "        self.log_confusion_matrix = log_confusion_matrix\n",
    "        if log_confusion_matrix:\n",
    "            self.conf_mat = MulticlassConfusionMatrix(self.num_classes)\n",
    "\n",
    "    def configure_optimizers(self):\n",
    "        optimizer = self.optimizer_class(self.parameters(), lr=self.lr, weight_decay=self.wd)\n",
    "        scheduler = torch.optim.lr_scheduler.ReduceLROnPlateau(optimizer, mode='min', factor=0.5, patience=5)\n",
    "        #scheduler = torch.optim.lr_scheduler.CosineAnnealingLR(optimizer, T_max=self.trainer.max_epochs)\n",
    "        return ([optimizer],\n",
    "                [{\"scheduler\": scheduler,\n",
    "                \"monitor\": \"Loss/val\",\n",
    "                \"interval\": \"epoch\", # \"epoch\" # \"step\"\n",
    "                \"frequency\": 1,\n",
    "                }])\n",
    "\n",
    "    def forward(self, x):\n",
    "        return self.net(x)\n",
    "\n",
    "    def _step(self, stage, batch, batch_idx):\n",
    "        X, y = batch['img'], batch['label']\n",
    "        y_hat = self(X)\n",
    "        loss = self.criterion(y_hat, y)\n",
    "        self.log(f\"Loss/{stage}\", loss, on_epoch=True, prog_bar=True)\n",
    "        return loss, y_hat, y\n",
    "\n",
    "    def training_step(self, batch, batch_idx):\n",
    "        loss, y_hat, y = self._step('train', batch, batch_idx)\n",
    "        ## log metrics\n",
    "        self.log_dict(self.train_metrics(y_hat, y), on_step=False, on_epoch=True)\n",
    "        return loss\n",
    "\n",
    "    def validation_step(self, batch, batch_idx):\n",
    "        loss, y_hat, y = self._step('val', batch, batch_idx)\n",
    "        ## log metrics\n",
    "        metrics = self.valid_metrics(y_hat, y)\n",
    "        self.log_dict(metrics)\n",
    "        self.log(\"hp_metric\", metrics['F1_score/Val'], prog_bar=True)\n",
    "\n",
    "        if self.log_confusion_matrix:\n",
    "            self.conf_mat.update(y_hat, y)\n",
    "        return loss # {\"loss\": loss, \"y_hat\": y_hat, \"y_true\": y}\n",
    "\n",
    "    def predict_step(self, batch, batch_idx):\n",
    "        X = batch['img']\n",
    "        return self(X)\n",
    "\n",
    "    def on_validation_epoch_end(self):\n",
    "        if self.log_confusion_matrix:\n",
    "            ## log confusion matrix\n",
    "            self._log_confusion_matrix()\n",
    "            self.conf_mat.reset()\n",
    "\n",
    "    def _log_confusion_matrix(self):\n",
    "      self.conf_mat.compute()\n",
    "      fig, ax = self.conf_mat.plot(labels=self.class_labels)\n",
    "      self.logger.experiment.add_figure (\n",
    "          \"confusion_matrix\", fig,\n",
    "          global_step=self.current_epoch,\n",
    "      )"
   ],
   "outputs": [],
   "execution_count": 69
  },
  {
   "metadata": {
    "ExecuteTime": {
     "end_time": "2025-02-08T17:53:09.854860Z",
     "start_time": "2025-02-08T17:52:57.126458Z"
    }
   },
   "cell_type": "code",
   "source": [
    "datamodule = MRIDataModule(\n",
    "    '../data',\n",
    "    batch_size=5,\n",
    "    train_val_ratio=0.8,\n",
    "    concat_dim = 0,\n",
    "    use_cache=True,\n",
    "    intensity_norm='linear',\n",
    "    mask_intensity='multi',\n",
    "    spatial_size=(12, 32, 32),\n",
    "    #augmentations = transforms.Compose([transforms.RandRotate90d(['img'], spatial_axes=(1,2))])\n",
    ")\n",
    "datamodule.setup('fit');"
   ],
   "outputs": [],
   "execution_count": 74
  },
  {
   "metadata": {
    "ExecuteTime": {
     "end_time": "2025-02-08T17:55:32.449044Z",
     "start_time": "2025-02-08T17:53:09.865730Z"
    }
   },
   "cell_type": "code",
   "source": [
    "LR = 3e-4\n",
    "\n",
    "# since 100 MRIs is not a lot of data, a small model (ResNet18) is chosen\n",
    "net = monai.networks.nets.resnet18(n_input_channels=datamodule.n_channels, num_classes=5)\n",
    "#net = monai.networks.nets.EfficientNetBN(\"efficientnet-b0\", spatial_dims=3, in_channels=2, num_classes=5)\n",
    "\n",
    "model = MRI_Model(\n",
    "    net=net,\n",
    "    class_labels=datamodule.labels,\n",
    "    learning_rate=LR,\n",
    "    weight_decay=0.05, # regularization to prevent overfitting\n",
    "    log_confusion_matrix=False,\n",
    ")\n",
    "\n",
    "# Early stopping does not seem to work that well here...\n",
    "# early_stopping = pl.callbacks.early_stopping.EarlyStopping(\n",
    "#     monitor=\"Loss/val\",\n",
    "#     patience=15,\n",
    "#     mode=\"min\",\n",
    "#     verbose=True,\n",
    "# )\n",
    "trainer = pl.Trainer(\n",
    "    devices='auto',\n",
    "    #precision=\"16-mixed\",\n",
    "    max_epochs=50,\n",
    "    accumulate_grad_batches=1,\n",
    "    gradient_clip_val=1.0,\n",
    "    callbacks=[#pl.callbacks.early_stopping.EarlyStopping(monitor=\"Loss/train\", patience=10),\n",
    "                pl.callbacks.RichProgressBar(),\n",
    "                pl.callbacks.LearningRateMonitor(),],\n",
    "    #           pl.callbacks.StochasticWeightAveraging(swa_lrs=LR)\n",
    "    #           ],\n",
    "    logger=pl.loggers.TensorBoardLogger(save_dir=\"lightning_logs\"),\n",
    "    log_every_n_steps=1,\n",
    ")\n",
    "\n",
    "trainer.fit(model, datamodule=datamodule)"
   ],
   "outputs": [
    {
     "name": "stderr",
     "output_type": "stream",
     "text": [
      "GPU available: True (cuda), used: True\n",
      "TPU available: False, using: 0 TPU cores\n",
      "HPU available: False, using: 0 HPUs\n",
      "LOCAL_RANK: 0 - CUDA_VISIBLE_DEVICES: [0]\n"
     ]
    },
    {
     "data": {
      "text/plain": [
       "┏━━━┳━━━━━━━━━━━━━━━┳━━━━━━━━━━━━━━━━━━┳━━━━━━━━┳━━━━━━━┓\n",
       "┃\u001B[1;35m \u001B[0m\u001B[1;35m \u001B[0m\u001B[1;35m \u001B[0m┃\u001B[1;35m \u001B[0m\u001B[1;35mName         \u001B[0m\u001B[1;35m \u001B[0m┃\u001B[1;35m \u001B[0m\u001B[1;35mType            \u001B[0m\u001B[1;35m \u001B[0m┃\u001B[1;35m \u001B[0m\u001B[1;35mParams\u001B[0m\u001B[1;35m \u001B[0m┃\u001B[1;35m \u001B[0m\u001B[1;35mMode \u001B[0m\u001B[1;35m \u001B[0m┃\n",
       "┡━━━╇━━━━━━━━━━━━━━━╇━━━━━━━━━━━━━━━━━━╇━━━━━━━━╇━━━━━━━┩\n",
       "│\u001B[2m \u001B[0m\u001B[2m0\u001B[0m\u001B[2m \u001B[0m│ net           │ ResNet           │ 33.3 M │ train │\n",
       "│\u001B[2m \u001B[0m\u001B[2m1\u001B[0m\u001B[2m \u001B[0m│ criterion     │ CrossEntropyLoss │      0 │ train │\n",
       "│\u001B[2m \u001B[0m\u001B[2m2\u001B[0m\u001B[2m \u001B[0m│ train_metrics │ MetricCollection │      0 │ train │\n",
       "│\u001B[2m \u001B[0m\u001B[2m3\u001B[0m\u001B[2m \u001B[0m│ valid_metrics │ MetricCollection │      0 │ train │\n",
       "└───┴───────────────┴──────────────────┴────────┴───────┘\n"
      ],
      "text/html": [
       "<pre style=\"white-space:pre;overflow-x:auto;line-height:normal;font-family:Menlo,'DejaVu Sans Mono',consolas,'Courier New',monospace\">┏━━━┳━━━━━━━━━━━━━━━┳━━━━━━━━━━━━━━━━━━┳━━━━━━━━┳━━━━━━━┓\n",
       "┃<span style=\"color: #800080; text-decoration-color: #800080; font-weight: bold\">   </span>┃<span style=\"color: #800080; text-decoration-color: #800080; font-weight: bold\"> Name          </span>┃<span style=\"color: #800080; text-decoration-color: #800080; font-weight: bold\"> Type             </span>┃<span style=\"color: #800080; text-decoration-color: #800080; font-weight: bold\"> Params </span>┃<span style=\"color: #800080; text-decoration-color: #800080; font-weight: bold\"> Mode  </span>┃\n",
       "┡━━━╇━━━━━━━━━━━━━━━╇━━━━━━━━━━━━━━━━━━╇━━━━━━━━╇━━━━━━━┩\n",
       "│<span style=\"color: #7f7f7f; text-decoration-color: #7f7f7f\"> 0 </span>│ net           │ ResNet           │ 33.3 M │ train │\n",
       "│<span style=\"color: #7f7f7f; text-decoration-color: #7f7f7f\"> 1 </span>│ criterion     │ CrossEntropyLoss │      0 │ train │\n",
       "│<span style=\"color: #7f7f7f; text-decoration-color: #7f7f7f\"> 2 </span>│ train_metrics │ MetricCollection │      0 │ train │\n",
       "│<span style=\"color: #7f7f7f; text-decoration-color: #7f7f7f\"> 3 </span>│ valid_metrics │ MetricCollection │      0 │ train │\n",
       "└───┴───────────────┴──────────────────┴────────┴───────┘\n",
       "</pre>\n"
      ]
     },
     "metadata": {},
     "output_type": "display_data"
    },
    {
     "data": {
      "text/plain": [
       "\u001B[1mTrainable params\u001B[0m: 33.3 M                                                                     \n",
       "\u001B[1mNon-trainable params\u001B[0m: 0                                                                      \n",
       "\u001B[1mTotal params\u001B[0m: 33.3 M                                                                         \n",
       "\u001B[1mTotal estimated model params size (MB)\u001B[0m: 133                                                  \n",
       "\u001B[1mModules in train mode\u001B[0m: 79                                                                    \n",
       "\u001B[1mModules in eval mode\u001B[0m: 0                                                                      \n"
      ],
      "text/html": [
       "<pre style=\"white-space:pre;overflow-x:auto;line-height:normal;font-family:Menlo,'DejaVu Sans Mono',consolas,'Courier New',monospace\"><span style=\"font-weight: bold\">Trainable params</span>: 33.3 M                                                                     \n",
       "<span style=\"font-weight: bold\">Non-trainable params</span>: 0                                                                      \n",
       "<span style=\"font-weight: bold\">Total params</span>: 33.3 M                                                                         \n",
       "<span style=\"font-weight: bold\">Total estimated model params size (MB)</span>: 133                                                  \n",
       "<span style=\"font-weight: bold\">Modules in train mode</span>: 79                                                                    \n",
       "<span style=\"font-weight: bold\">Modules in eval mode</span>: 0                                                                      \n",
       "</pre>\n"
      ]
     },
     "metadata": {},
     "output_type": "display_data"
    },
    {
     "data": {
      "text/plain": [
       "Output()"
      ],
      "application/vnd.jupyter.widget-view+json": {
       "version_major": 2,
       "version_minor": 0,
       "model_id": "04d979d52e91420cbbb2c2ff7885a6d5"
      }
     },
     "metadata": {},
     "output_type": "display_data"
    },
    {
     "name": "stderr",
     "output_type": "stream",
     "text": [
      "\n",
      "Detected KeyboardInterrupt, attempting graceful shutdown ...\n"
     ]
    },
    {
     "ename": "NameError",
     "evalue": "name 'exit' is not defined",
     "output_type": "error",
     "traceback": [
      "\u001B[1;31m---------------------------------------------------------------------------\u001B[0m",
      "\u001B[1;31mKeyboardInterrupt\u001B[0m                         Traceback (most recent call last)",
      "File \u001B[1;32m~\\PycharmProjects\\ACDC_AI4Imaging\\.venv\\Lib\\site-packages\\pytorch_lightning\\trainer\\call.py:47\u001B[0m, in \u001B[0;36m_call_and_handle_interrupt\u001B[1;34m(trainer, trainer_fn, *args, **kwargs)\u001B[0m\n\u001B[0;32m     46\u001B[0m         \u001B[38;5;28;01mreturn\u001B[39;00m trainer\u001B[38;5;241m.\u001B[39mstrategy\u001B[38;5;241m.\u001B[39mlauncher\u001B[38;5;241m.\u001B[39mlaunch(trainer_fn, \u001B[38;5;241m*\u001B[39margs, trainer\u001B[38;5;241m=\u001B[39mtrainer, \u001B[38;5;241m*\u001B[39m\u001B[38;5;241m*\u001B[39mkwargs)\n\u001B[1;32m---> 47\u001B[0m     \u001B[38;5;28;01mreturn\u001B[39;00m \u001B[43mtrainer_fn\u001B[49m\u001B[43m(\u001B[49m\u001B[38;5;241;43m*\u001B[39;49m\u001B[43margs\u001B[49m\u001B[43m,\u001B[49m\u001B[43m \u001B[49m\u001B[38;5;241;43m*\u001B[39;49m\u001B[38;5;241;43m*\u001B[39;49m\u001B[43mkwargs\u001B[49m\u001B[43m)\u001B[49m\n\u001B[0;32m     49\u001B[0m \u001B[38;5;28;01mexcept\u001B[39;00m _TunerExitException:\n",
      "File \u001B[1;32m~\\PycharmProjects\\ACDC_AI4Imaging\\.venv\\Lib\\site-packages\\pytorch_lightning\\trainer\\trainer.py:575\u001B[0m, in \u001B[0;36mTrainer._fit_impl\u001B[1;34m(self, model, train_dataloaders, val_dataloaders, datamodule, ckpt_path)\u001B[0m\n\u001B[0;32m    569\u001B[0m ckpt_path \u001B[38;5;241m=\u001B[39m \u001B[38;5;28mself\u001B[39m\u001B[38;5;241m.\u001B[39m_checkpoint_connector\u001B[38;5;241m.\u001B[39m_select_ckpt_path(\n\u001B[0;32m    570\u001B[0m     \u001B[38;5;28mself\u001B[39m\u001B[38;5;241m.\u001B[39mstate\u001B[38;5;241m.\u001B[39mfn,\n\u001B[0;32m    571\u001B[0m     ckpt_path,\n\u001B[0;32m    572\u001B[0m     model_provided\u001B[38;5;241m=\u001B[39m\u001B[38;5;28;01mTrue\u001B[39;00m,\n\u001B[0;32m    573\u001B[0m     model_connected\u001B[38;5;241m=\u001B[39m\u001B[38;5;28mself\u001B[39m\u001B[38;5;241m.\u001B[39mlightning_module \u001B[38;5;129;01mis\u001B[39;00m \u001B[38;5;129;01mnot\u001B[39;00m \u001B[38;5;28;01mNone\u001B[39;00m,\n\u001B[0;32m    574\u001B[0m )\n\u001B[1;32m--> 575\u001B[0m \u001B[38;5;28;43mself\u001B[39;49m\u001B[38;5;241;43m.\u001B[39;49m\u001B[43m_run\u001B[49m\u001B[43m(\u001B[49m\u001B[43mmodel\u001B[49m\u001B[43m,\u001B[49m\u001B[43m \u001B[49m\u001B[43mckpt_path\u001B[49m\u001B[38;5;241;43m=\u001B[39;49m\u001B[43mckpt_path\u001B[49m\u001B[43m)\u001B[49m\n\u001B[0;32m    577\u001B[0m \u001B[38;5;28;01massert\u001B[39;00m \u001B[38;5;28mself\u001B[39m\u001B[38;5;241m.\u001B[39mstate\u001B[38;5;241m.\u001B[39mstopped\n",
      "File \u001B[1;32m~\\PycharmProjects\\ACDC_AI4Imaging\\.venv\\Lib\\site-packages\\pytorch_lightning\\trainer\\trainer.py:982\u001B[0m, in \u001B[0;36mTrainer._run\u001B[1;34m(self, model, ckpt_path)\u001B[0m\n\u001B[0;32m    979\u001B[0m \u001B[38;5;66;03m# ----------------------------\u001B[39;00m\n\u001B[0;32m    980\u001B[0m \u001B[38;5;66;03m# RUN THE TRAINER\u001B[39;00m\n\u001B[0;32m    981\u001B[0m \u001B[38;5;66;03m# ----------------------------\u001B[39;00m\n\u001B[1;32m--> 982\u001B[0m results \u001B[38;5;241m=\u001B[39m \u001B[38;5;28;43mself\u001B[39;49m\u001B[38;5;241;43m.\u001B[39;49m\u001B[43m_run_stage\u001B[49m\u001B[43m(\u001B[49m\u001B[43m)\u001B[49m\n\u001B[0;32m    984\u001B[0m \u001B[38;5;66;03m# ----------------------------\u001B[39;00m\n\u001B[0;32m    985\u001B[0m \u001B[38;5;66;03m# POST-Training CLEAN UP\u001B[39;00m\n\u001B[0;32m    986\u001B[0m \u001B[38;5;66;03m# ----------------------------\u001B[39;00m\n",
      "File \u001B[1;32m~\\PycharmProjects\\ACDC_AI4Imaging\\.venv\\Lib\\site-packages\\pytorch_lightning\\trainer\\trainer.py:1026\u001B[0m, in \u001B[0;36mTrainer._run_stage\u001B[1;34m(self)\u001B[0m\n\u001B[0;32m   1025\u001B[0m \u001B[38;5;28;01mwith\u001B[39;00m torch\u001B[38;5;241m.\u001B[39mautograd\u001B[38;5;241m.\u001B[39mset_detect_anomaly(\u001B[38;5;28mself\u001B[39m\u001B[38;5;241m.\u001B[39m_detect_anomaly):\n\u001B[1;32m-> 1026\u001B[0m     \u001B[38;5;28;43mself\u001B[39;49m\u001B[38;5;241;43m.\u001B[39;49m\u001B[43mfit_loop\u001B[49m\u001B[38;5;241;43m.\u001B[39;49m\u001B[43mrun\u001B[49m\u001B[43m(\u001B[49m\u001B[43m)\u001B[49m\n\u001B[0;32m   1027\u001B[0m \u001B[38;5;28;01mreturn\u001B[39;00m \u001B[38;5;28;01mNone\u001B[39;00m\n",
      "File \u001B[1;32m~\\PycharmProjects\\ACDC_AI4Imaging\\.venv\\Lib\\site-packages\\pytorch_lightning\\loops\\fit_loop.py:216\u001B[0m, in \u001B[0;36m_FitLoop.run\u001B[1;34m(self)\u001B[0m\n\u001B[0;32m    215\u001B[0m \u001B[38;5;28mself\u001B[39m\u001B[38;5;241m.\u001B[39mon_advance_start()\n\u001B[1;32m--> 216\u001B[0m \u001B[38;5;28;43mself\u001B[39;49m\u001B[38;5;241;43m.\u001B[39;49m\u001B[43madvance\u001B[49m\u001B[43m(\u001B[49m\u001B[43m)\u001B[49m\n\u001B[0;32m    217\u001B[0m \u001B[38;5;28mself\u001B[39m\u001B[38;5;241m.\u001B[39mon_advance_end()\n",
      "File \u001B[1;32m~\\PycharmProjects\\ACDC_AI4Imaging\\.venv\\Lib\\site-packages\\pytorch_lightning\\loops\\fit_loop.py:455\u001B[0m, in \u001B[0;36m_FitLoop.advance\u001B[1;34m(self)\u001B[0m\n\u001B[0;32m    454\u001B[0m \u001B[38;5;28;01massert\u001B[39;00m \u001B[38;5;28mself\u001B[39m\u001B[38;5;241m.\u001B[39m_data_fetcher \u001B[38;5;129;01mis\u001B[39;00m \u001B[38;5;129;01mnot\u001B[39;00m \u001B[38;5;28;01mNone\u001B[39;00m\n\u001B[1;32m--> 455\u001B[0m \u001B[38;5;28;43mself\u001B[39;49m\u001B[38;5;241;43m.\u001B[39;49m\u001B[43mepoch_loop\u001B[49m\u001B[38;5;241;43m.\u001B[39;49m\u001B[43mrun\u001B[49m\u001B[43m(\u001B[49m\u001B[38;5;28;43mself\u001B[39;49m\u001B[38;5;241;43m.\u001B[39;49m\u001B[43m_data_fetcher\u001B[49m\u001B[43m)\u001B[49m\n",
      "File \u001B[1;32m~\\PycharmProjects\\ACDC_AI4Imaging\\.venv\\Lib\\site-packages\\pytorch_lightning\\loops\\training_epoch_loop.py:150\u001B[0m, in \u001B[0;36m_TrainingEpochLoop.run\u001B[1;34m(self, data_fetcher)\u001B[0m\n\u001B[0;32m    149\u001B[0m \u001B[38;5;28;01mtry\u001B[39;00m:\n\u001B[1;32m--> 150\u001B[0m     \u001B[38;5;28;43mself\u001B[39;49m\u001B[38;5;241;43m.\u001B[39;49m\u001B[43madvance\u001B[49m\u001B[43m(\u001B[49m\u001B[43mdata_fetcher\u001B[49m\u001B[43m)\u001B[49m\n\u001B[0;32m    151\u001B[0m     \u001B[38;5;28mself\u001B[39m\u001B[38;5;241m.\u001B[39mon_advance_end(data_fetcher)\n",
      "File \u001B[1;32m~\\PycharmProjects\\ACDC_AI4Imaging\\.venv\\Lib\\site-packages\\pytorch_lightning\\loops\\training_epoch_loop.py:320\u001B[0m, in \u001B[0;36m_TrainingEpochLoop.advance\u001B[1;34m(self, data_fetcher)\u001B[0m\n\u001B[0;32m    318\u001B[0m \u001B[38;5;28;01mif\u001B[39;00m trainer\u001B[38;5;241m.\u001B[39mlightning_module\u001B[38;5;241m.\u001B[39mautomatic_optimization:\n\u001B[0;32m    319\u001B[0m     \u001B[38;5;66;03m# in automatic optimization, there can only be one optimizer\u001B[39;00m\n\u001B[1;32m--> 320\u001B[0m     batch_output \u001B[38;5;241m=\u001B[39m \u001B[38;5;28;43mself\u001B[39;49m\u001B[38;5;241;43m.\u001B[39;49m\u001B[43mautomatic_optimization\u001B[49m\u001B[38;5;241;43m.\u001B[39;49m\u001B[43mrun\u001B[49m\u001B[43m(\u001B[49m\u001B[43mtrainer\u001B[49m\u001B[38;5;241;43m.\u001B[39;49m\u001B[43moptimizers\u001B[49m\u001B[43m[\u001B[49m\u001B[38;5;241;43m0\u001B[39;49m\u001B[43m]\u001B[49m\u001B[43m,\u001B[49m\u001B[43m \u001B[49m\u001B[43mbatch_idx\u001B[49m\u001B[43m,\u001B[49m\u001B[43m \u001B[49m\u001B[43mkwargs\u001B[49m\u001B[43m)\u001B[49m\n\u001B[0;32m    321\u001B[0m \u001B[38;5;28;01melse\u001B[39;00m:\n",
      "File \u001B[1;32m~\\PycharmProjects\\ACDC_AI4Imaging\\.venv\\Lib\\site-packages\\pytorch_lightning\\loops\\optimization\\automatic.py:192\u001B[0m, in \u001B[0;36m_AutomaticOptimization.run\u001B[1;34m(self, optimizer, batch_idx, kwargs)\u001B[0m\n\u001B[0;32m    187\u001B[0m \u001B[38;5;66;03m# ------------------------------\u001B[39;00m\n\u001B[0;32m    188\u001B[0m \u001B[38;5;66;03m# BACKWARD PASS\u001B[39;00m\n\u001B[0;32m    189\u001B[0m \u001B[38;5;66;03m# ------------------------------\u001B[39;00m\n\u001B[0;32m    190\u001B[0m \u001B[38;5;66;03m# gradient update with accumulated gradients\u001B[39;00m\n\u001B[0;32m    191\u001B[0m \u001B[38;5;28;01melse\u001B[39;00m:\n\u001B[1;32m--> 192\u001B[0m     \u001B[38;5;28;43mself\u001B[39;49m\u001B[38;5;241;43m.\u001B[39;49m\u001B[43m_optimizer_step\u001B[49m\u001B[43m(\u001B[49m\u001B[43mbatch_idx\u001B[49m\u001B[43m,\u001B[49m\u001B[43m \u001B[49m\u001B[43mclosure\u001B[49m\u001B[43m)\u001B[49m\n\u001B[0;32m    194\u001B[0m result \u001B[38;5;241m=\u001B[39m closure\u001B[38;5;241m.\u001B[39mconsume_result()\n",
      "File \u001B[1;32m~\\PycharmProjects\\ACDC_AI4Imaging\\.venv\\Lib\\site-packages\\pytorch_lightning\\loops\\optimization\\automatic.py:270\u001B[0m, in \u001B[0;36m_AutomaticOptimization._optimizer_step\u001B[1;34m(self, batch_idx, train_step_and_backward_closure)\u001B[0m\n\u001B[0;32m    269\u001B[0m \u001B[38;5;66;03m# model hook\u001B[39;00m\n\u001B[1;32m--> 270\u001B[0m \u001B[43mcall\u001B[49m\u001B[38;5;241;43m.\u001B[39;49m\u001B[43m_call_lightning_module_hook\u001B[49m\u001B[43m(\u001B[49m\n\u001B[0;32m    271\u001B[0m \u001B[43m    \u001B[49m\u001B[43mtrainer\u001B[49m\u001B[43m,\u001B[49m\n\u001B[0;32m    272\u001B[0m \u001B[43m    \u001B[49m\u001B[38;5;124;43m\"\u001B[39;49m\u001B[38;5;124;43moptimizer_step\u001B[39;49m\u001B[38;5;124;43m\"\u001B[39;49m\u001B[43m,\u001B[49m\n\u001B[0;32m    273\u001B[0m \u001B[43m    \u001B[49m\u001B[43mtrainer\u001B[49m\u001B[38;5;241;43m.\u001B[39;49m\u001B[43mcurrent_epoch\u001B[49m\u001B[43m,\u001B[49m\n\u001B[0;32m    274\u001B[0m \u001B[43m    \u001B[49m\u001B[43mbatch_idx\u001B[49m\u001B[43m,\u001B[49m\n\u001B[0;32m    275\u001B[0m \u001B[43m    \u001B[49m\u001B[43moptimizer\u001B[49m\u001B[43m,\u001B[49m\n\u001B[0;32m    276\u001B[0m \u001B[43m    \u001B[49m\u001B[43mtrain_step_and_backward_closure\u001B[49m\u001B[43m,\u001B[49m\n\u001B[0;32m    277\u001B[0m \u001B[43m\u001B[49m\u001B[43m)\u001B[49m\n\u001B[0;32m    279\u001B[0m \u001B[38;5;28;01mif\u001B[39;00m \u001B[38;5;129;01mnot\u001B[39;00m should_accumulate:\n",
      "File \u001B[1;32m~\\PycharmProjects\\ACDC_AI4Imaging\\.venv\\Lib\\site-packages\\pytorch_lightning\\trainer\\call.py:171\u001B[0m, in \u001B[0;36m_call_lightning_module_hook\u001B[1;34m(trainer, hook_name, pl_module, *args, **kwargs)\u001B[0m\n\u001B[0;32m    170\u001B[0m \u001B[38;5;28;01mwith\u001B[39;00m trainer\u001B[38;5;241m.\u001B[39mprofiler\u001B[38;5;241m.\u001B[39mprofile(\u001B[38;5;124mf\u001B[39m\u001B[38;5;124m\"\u001B[39m\u001B[38;5;124m[LightningModule]\u001B[39m\u001B[38;5;132;01m{\u001B[39;00mpl_module\u001B[38;5;241m.\u001B[39m\u001B[38;5;18m__class__\u001B[39m\u001B[38;5;241m.\u001B[39m\u001B[38;5;18m__name__\u001B[39m\u001B[38;5;132;01m}\u001B[39;00m\u001B[38;5;124m.\u001B[39m\u001B[38;5;132;01m{\u001B[39;00mhook_name\u001B[38;5;132;01m}\u001B[39;00m\u001B[38;5;124m\"\u001B[39m):\n\u001B[1;32m--> 171\u001B[0m     output \u001B[38;5;241m=\u001B[39m \u001B[43mfn\u001B[49m\u001B[43m(\u001B[49m\u001B[38;5;241;43m*\u001B[39;49m\u001B[43margs\u001B[49m\u001B[43m,\u001B[49m\u001B[43m \u001B[49m\u001B[38;5;241;43m*\u001B[39;49m\u001B[38;5;241;43m*\u001B[39;49m\u001B[43mkwargs\u001B[49m\u001B[43m)\u001B[49m\n\u001B[0;32m    173\u001B[0m \u001B[38;5;66;03m# restore current_fx when nested context\u001B[39;00m\n",
      "File \u001B[1;32m~\\PycharmProjects\\ACDC_AI4Imaging\\.venv\\Lib\\site-packages\\pytorch_lightning\\core\\module.py:1302\u001B[0m, in \u001B[0;36mLightningModule.optimizer_step\u001B[1;34m(self, epoch, batch_idx, optimizer, optimizer_closure)\u001B[0m\n\u001B[0;32m   1278\u001B[0m \u001B[38;5;250m\u001B[39m\u001B[38;5;124mr\u001B[39m\u001B[38;5;124;03m\"\"\"Override this method to adjust the default way the :class:`~pytorch_lightning.trainer.trainer.Trainer` calls\u001B[39;00m\n\u001B[0;32m   1279\u001B[0m \u001B[38;5;124;03mthe optimizer.\u001B[39;00m\n\u001B[0;32m   1280\u001B[0m \n\u001B[1;32m   (...)\u001B[0m\n\u001B[0;32m   1300\u001B[0m \n\u001B[0;32m   1301\u001B[0m \u001B[38;5;124;03m\"\"\"\u001B[39;00m\n\u001B[1;32m-> 1302\u001B[0m \u001B[43moptimizer\u001B[49m\u001B[38;5;241;43m.\u001B[39;49m\u001B[43mstep\u001B[49m\u001B[43m(\u001B[49m\u001B[43mclosure\u001B[49m\u001B[38;5;241;43m=\u001B[39;49m\u001B[43moptimizer_closure\u001B[49m\u001B[43m)\u001B[49m\n",
      "File \u001B[1;32m~\\PycharmProjects\\ACDC_AI4Imaging\\.venv\\Lib\\site-packages\\pytorch_lightning\\core\\optimizer.py:154\u001B[0m, in \u001B[0;36mLightningOptimizer.step\u001B[1;34m(self, closure, **kwargs)\u001B[0m\n\u001B[0;32m    153\u001B[0m \u001B[38;5;28;01massert\u001B[39;00m \u001B[38;5;28mself\u001B[39m\u001B[38;5;241m.\u001B[39m_strategy \u001B[38;5;129;01mis\u001B[39;00m \u001B[38;5;129;01mnot\u001B[39;00m \u001B[38;5;28;01mNone\u001B[39;00m\n\u001B[1;32m--> 154\u001B[0m step_output \u001B[38;5;241m=\u001B[39m \u001B[38;5;28;43mself\u001B[39;49m\u001B[38;5;241;43m.\u001B[39;49m\u001B[43m_strategy\u001B[49m\u001B[38;5;241;43m.\u001B[39;49m\u001B[43moptimizer_step\u001B[49m\u001B[43m(\u001B[49m\u001B[38;5;28;43mself\u001B[39;49m\u001B[38;5;241;43m.\u001B[39;49m\u001B[43m_optimizer\u001B[49m\u001B[43m,\u001B[49m\u001B[43m \u001B[49m\u001B[43mclosure\u001B[49m\u001B[43m,\u001B[49m\u001B[43m \u001B[49m\u001B[38;5;241;43m*\u001B[39;49m\u001B[38;5;241;43m*\u001B[39;49m\u001B[43mkwargs\u001B[49m\u001B[43m)\u001B[49m\n\u001B[0;32m    156\u001B[0m \u001B[38;5;28mself\u001B[39m\u001B[38;5;241m.\u001B[39m_on_after_step()\n",
      "File \u001B[1;32m~\\PycharmProjects\\ACDC_AI4Imaging\\.venv\\Lib\\site-packages\\pytorch_lightning\\strategies\\strategy.py:239\u001B[0m, in \u001B[0;36mStrategy.optimizer_step\u001B[1;34m(self, optimizer, closure, model, **kwargs)\u001B[0m\n\u001B[0;32m    238\u001B[0m \u001B[38;5;28;01massert\u001B[39;00m \u001B[38;5;28misinstance\u001B[39m(model, pl\u001B[38;5;241m.\u001B[39mLightningModule)\n\u001B[1;32m--> 239\u001B[0m \u001B[38;5;28;01mreturn\u001B[39;00m \u001B[38;5;28;43mself\u001B[39;49m\u001B[38;5;241;43m.\u001B[39;49m\u001B[43mprecision_plugin\u001B[49m\u001B[38;5;241;43m.\u001B[39;49m\u001B[43moptimizer_step\u001B[49m\u001B[43m(\u001B[49m\u001B[43moptimizer\u001B[49m\u001B[43m,\u001B[49m\u001B[43m \u001B[49m\u001B[43mmodel\u001B[49m\u001B[38;5;241;43m=\u001B[39;49m\u001B[43mmodel\u001B[49m\u001B[43m,\u001B[49m\u001B[43m \u001B[49m\u001B[43mclosure\u001B[49m\u001B[38;5;241;43m=\u001B[39;49m\u001B[43mclosure\u001B[49m\u001B[43m,\u001B[49m\u001B[43m \u001B[49m\u001B[38;5;241;43m*\u001B[39;49m\u001B[38;5;241;43m*\u001B[39;49m\u001B[43mkwargs\u001B[49m\u001B[43m)\u001B[49m\n",
      "File \u001B[1;32m~\\PycharmProjects\\ACDC_AI4Imaging\\.venv\\Lib\\site-packages\\pytorch_lightning\\plugins\\precision\\precision.py:123\u001B[0m, in \u001B[0;36mPrecision.optimizer_step\u001B[1;34m(self, optimizer, model, closure, **kwargs)\u001B[0m\n\u001B[0;32m    122\u001B[0m closure \u001B[38;5;241m=\u001B[39m partial(\u001B[38;5;28mself\u001B[39m\u001B[38;5;241m.\u001B[39m_wrap_closure, model, optimizer, closure)\n\u001B[1;32m--> 123\u001B[0m \u001B[38;5;28;01mreturn\u001B[39;00m \u001B[43moptimizer\u001B[49m\u001B[38;5;241;43m.\u001B[39;49m\u001B[43mstep\u001B[49m\u001B[43m(\u001B[49m\u001B[43mclosure\u001B[49m\u001B[38;5;241;43m=\u001B[39;49m\u001B[43mclosure\u001B[49m\u001B[43m,\u001B[49m\u001B[43m \u001B[49m\u001B[38;5;241;43m*\u001B[39;49m\u001B[38;5;241;43m*\u001B[39;49m\u001B[43mkwargs\u001B[49m\u001B[43m)\u001B[49m\n",
      "File \u001B[1;32m~\\PycharmProjects\\ACDC_AI4Imaging\\.venv\\Lib\\site-packages\\torch\\optim\\optimizer.py:493\u001B[0m, in \u001B[0;36mOptimizer.profile_hook_step.<locals>.wrapper\u001B[1;34m(*args, **kwargs)\u001B[0m\n\u001B[0;32m    489\u001B[0m             \u001B[38;5;28;01mraise\u001B[39;00m \u001B[38;5;167;01mRuntimeError\u001B[39;00m(\n\u001B[0;32m    490\u001B[0m                 \u001B[38;5;124mf\u001B[39m\u001B[38;5;124m\"\u001B[39m\u001B[38;5;132;01m{\u001B[39;00mfunc\u001B[38;5;132;01m}\u001B[39;00m\u001B[38;5;124m must return None or a tuple of (new_args, new_kwargs), but got \u001B[39m\u001B[38;5;132;01m{\u001B[39;00mresult\u001B[38;5;132;01m}\u001B[39;00m\u001B[38;5;124m.\u001B[39m\u001B[38;5;124m\"\u001B[39m\n\u001B[0;32m    491\u001B[0m             )\n\u001B[1;32m--> 493\u001B[0m out \u001B[38;5;241m=\u001B[39m \u001B[43mfunc\u001B[49m\u001B[43m(\u001B[49m\u001B[38;5;241;43m*\u001B[39;49m\u001B[43margs\u001B[49m\u001B[43m,\u001B[49m\u001B[43m \u001B[49m\u001B[38;5;241;43m*\u001B[39;49m\u001B[38;5;241;43m*\u001B[39;49m\u001B[43mkwargs\u001B[49m\u001B[43m)\u001B[49m\n\u001B[0;32m    494\u001B[0m \u001B[38;5;28mself\u001B[39m\u001B[38;5;241m.\u001B[39m_optimizer_step_code()\n",
      "File \u001B[1;32m~\\PycharmProjects\\ACDC_AI4Imaging\\.venv\\Lib\\site-packages\\torch\\optim\\optimizer.py:91\u001B[0m, in \u001B[0;36m_use_grad_for_differentiable.<locals>._use_grad\u001B[1;34m(self, *args, **kwargs)\u001B[0m\n\u001B[0;32m     90\u001B[0m     torch\u001B[38;5;241m.\u001B[39m_dynamo\u001B[38;5;241m.\u001B[39mgraph_break()\n\u001B[1;32m---> 91\u001B[0m     ret \u001B[38;5;241m=\u001B[39m \u001B[43mfunc\u001B[49m\u001B[43m(\u001B[49m\u001B[38;5;28;43mself\u001B[39;49m\u001B[43m,\u001B[49m\u001B[43m \u001B[49m\u001B[38;5;241;43m*\u001B[39;49m\u001B[43margs\u001B[49m\u001B[43m,\u001B[49m\u001B[43m \u001B[49m\u001B[38;5;241;43m*\u001B[39;49m\u001B[38;5;241;43m*\u001B[39;49m\u001B[43mkwargs\u001B[49m\u001B[43m)\u001B[49m\n\u001B[0;32m     92\u001B[0m \u001B[38;5;28;01mfinally\u001B[39;00m:\n",
      "File \u001B[1;32m~\\PycharmProjects\\ACDC_AI4Imaging\\.venv\\Lib\\site-packages\\torch\\optim\\adamw.py:220\u001B[0m, in \u001B[0;36mAdamW.step\u001B[1;34m(self, closure)\u001B[0m\n\u001B[0;32m    219\u001B[0m     \u001B[38;5;28;01mwith\u001B[39;00m torch\u001B[38;5;241m.\u001B[39menable_grad():\n\u001B[1;32m--> 220\u001B[0m         loss \u001B[38;5;241m=\u001B[39m \u001B[43mclosure\u001B[49m\u001B[43m(\u001B[49m\u001B[43m)\u001B[49m\n\u001B[0;32m    222\u001B[0m \u001B[38;5;28;01mfor\u001B[39;00m group \u001B[38;5;129;01min\u001B[39;00m \u001B[38;5;28mself\u001B[39m\u001B[38;5;241m.\u001B[39mparam_groups:\n",
      "File \u001B[1;32m~\\PycharmProjects\\ACDC_AI4Imaging\\.venv\\Lib\\site-packages\\pytorch_lightning\\plugins\\precision\\precision.py:109\u001B[0m, in \u001B[0;36mPrecision._wrap_closure\u001B[1;34m(self, model, optimizer, closure)\u001B[0m\n\u001B[0;32m    102\u001B[0m \u001B[38;5;250m\u001B[39m\u001B[38;5;124;03m\"\"\"This double-closure allows makes sure the ``closure`` is executed before the ``on_before_optimizer_step``\u001B[39;00m\n\u001B[0;32m    103\u001B[0m \u001B[38;5;124;03mhook is called.\u001B[39;00m\n\u001B[0;32m    104\u001B[0m \n\u001B[1;32m   (...)\u001B[0m\n\u001B[0;32m    107\u001B[0m \n\u001B[0;32m    108\u001B[0m \u001B[38;5;124;03m\"\"\"\u001B[39;00m\n\u001B[1;32m--> 109\u001B[0m closure_result \u001B[38;5;241m=\u001B[39m \u001B[43mclosure\u001B[49m\u001B[43m(\u001B[49m\u001B[43m)\u001B[49m\n\u001B[0;32m    110\u001B[0m \u001B[38;5;28mself\u001B[39m\u001B[38;5;241m.\u001B[39m_after_closure(model, optimizer)\n",
      "File \u001B[1;32m~\\PycharmProjects\\ACDC_AI4Imaging\\.venv\\Lib\\site-packages\\pytorch_lightning\\loops\\optimization\\automatic.py:146\u001B[0m, in \u001B[0;36mClosure.__call__\u001B[1;34m(self, *args, **kwargs)\u001B[0m\n\u001B[0;32m    144\u001B[0m \u001B[38;5;129m@override\u001B[39m\n\u001B[0;32m    145\u001B[0m \u001B[38;5;28;01mdef\u001B[39;00m\u001B[38;5;250m \u001B[39m\u001B[38;5;21m__call__\u001B[39m(\u001B[38;5;28mself\u001B[39m, \u001B[38;5;241m*\u001B[39margs: Any, \u001B[38;5;241m*\u001B[39m\u001B[38;5;241m*\u001B[39mkwargs: Any) \u001B[38;5;241m-\u001B[39m\u001B[38;5;241m>\u001B[39m Optional[Tensor]:\n\u001B[1;32m--> 146\u001B[0m     \u001B[38;5;28mself\u001B[39m\u001B[38;5;241m.\u001B[39m_result \u001B[38;5;241m=\u001B[39m \u001B[38;5;28;43mself\u001B[39;49m\u001B[38;5;241;43m.\u001B[39;49m\u001B[43mclosure\u001B[49m\u001B[43m(\u001B[49m\u001B[38;5;241;43m*\u001B[39;49m\u001B[43margs\u001B[49m\u001B[43m,\u001B[49m\u001B[43m \u001B[49m\u001B[38;5;241;43m*\u001B[39;49m\u001B[38;5;241;43m*\u001B[39;49m\u001B[43mkwargs\u001B[49m\u001B[43m)\u001B[49m\n\u001B[0;32m    147\u001B[0m     \u001B[38;5;28;01mreturn\u001B[39;00m \u001B[38;5;28mself\u001B[39m\u001B[38;5;241m.\u001B[39m_result\u001B[38;5;241m.\u001B[39mloss\n",
      "File \u001B[1;32m~\\PycharmProjects\\ACDC_AI4Imaging\\.venv\\Lib\\site-packages\\torch\\utils\\_contextlib.py:116\u001B[0m, in \u001B[0;36mcontext_decorator.<locals>.decorate_context\u001B[1;34m(*args, **kwargs)\u001B[0m\n\u001B[0;32m    115\u001B[0m \u001B[38;5;28;01mwith\u001B[39;00m ctx_factory():\n\u001B[1;32m--> 116\u001B[0m     \u001B[38;5;28;01mreturn\u001B[39;00m \u001B[43mfunc\u001B[49m\u001B[43m(\u001B[49m\u001B[38;5;241;43m*\u001B[39;49m\u001B[43margs\u001B[49m\u001B[43m,\u001B[49m\u001B[43m \u001B[49m\u001B[38;5;241;43m*\u001B[39;49m\u001B[38;5;241;43m*\u001B[39;49m\u001B[43mkwargs\u001B[49m\u001B[43m)\u001B[49m\n",
      "File \u001B[1;32m~\\PycharmProjects\\ACDC_AI4Imaging\\.venv\\Lib\\site-packages\\pytorch_lightning\\loops\\optimization\\automatic.py:131\u001B[0m, in \u001B[0;36mClosure.closure\u001B[1;34m(self, *args, **kwargs)\u001B[0m\n\u001B[0;32m    128\u001B[0m \u001B[38;5;129m@override\u001B[39m\n\u001B[0;32m    129\u001B[0m \u001B[38;5;129m@torch\u001B[39m\u001B[38;5;241m.\u001B[39menable_grad()\n\u001B[0;32m    130\u001B[0m \u001B[38;5;28;01mdef\u001B[39;00m\u001B[38;5;250m \u001B[39m\u001B[38;5;21mclosure\u001B[39m(\u001B[38;5;28mself\u001B[39m, \u001B[38;5;241m*\u001B[39margs: Any, \u001B[38;5;241m*\u001B[39m\u001B[38;5;241m*\u001B[39mkwargs: Any) \u001B[38;5;241m-\u001B[39m\u001B[38;5;241m>\u001B[39m ClosureResult:\n\u001B[1;32m--> 131\u001B[0m     step_output \u001B[38;5;241m=\u001B[39m \u001B[38;5;28;43mself\u001B[39;49m\u001B[38;5;241;43m.\u001B[39;49m\u001B[43m_step_fn\u001B[49m\u001B[43m(\u001B[49m\u001B[43m)\u001B[49m\n\u001B[0;32m    133\u001B[0m     \u001B[38;5;28;01mif\u001B[39;00m step_output\u001B[38;5;241m.\u001B[39mclosure_loss \u001B[38;5;129;01mis\u001B[39;00m \u001B[38;5;28;01mNone\u001B[39;00m:\n",
      "File \u001B[1;32m~\\PycharmProjects\\ACDC_AI4Imaging\\.venv\\Lib\\site-packages\\pytorch_lightning\\loops\\optimization\\automatic.py:319\u001B[0m, in \u001B[0;36m_AutomaticOptimization._training_step\u001B[1;34m(self, kwargs)\u001B[0m\n\u001B[0;32m    317\u001B[0m trainer \u001B[38;5;241m=\u001B[39m \u001B[38;5;28mself\u001B[39m\u001B[38;5;241m.\u001B[39mtrainer\n\u001B[1;32m--> 319\u001B[0m training_step_output \u001B[38;5;241m=\u001B[39m \u001B[43mcall\u001B[49m\u001B[38;5;241;43m.\u001B[39;49m\u001B[43m_call_strategy_hook\u001B[49m\u001B[43m(\u001B[49m\u001B[43mtrainer\u001B[49m\u001B[43m,\u001B[49m\u001B[43m \u001B[49m\u001B[38;5;124;43m\"\u001B[39;49m\u001B[38;5;124;43mtraining_step\u001B[39;49m\u001B[38;5;124;43m\"\u001B[39;49m\u001B[43m,\u001B[49m\u001B[43m \u001B[49m\u001B[38;5;241;43m*\u001B[39;49m\u001B[43mkwargs\u001B[49m\u001B[38;5;241;43m.\u001B[39;49m\u001B[43mvalues\u001B[49m\u001B[43m(\u001B[49m\u001B[43m)\u001B[49m\u001B[43m)\u001B[49m\n\u001B[0;32m    320\u001B[0m \u001B[38;5;28mself\u001B[39m\u001B[38;5;241m.\u001B[39mtrainer\u001B[38;5;241m.\u001B[39mstrategy\u001B[38;5;241m.\u001B[39mpost_training_step()  \u001B[38;5;66;03m# unused hook - call anyway for backward compatibility\u001B[39;00m\n",
      "File \u001B[1;32m~\\PycharmProjects\\ACDC_AI4Imaging\\.venv\\Lib\\site-packages\\pytorch_lightning\\trainer\\call.py:323\u001B[0m, in \u001B[0;36m_call_strategy_hook\u001B[1;34m(trainer, hook_name, *args, **kwargs)\u001B[0m\n\u001B[0;32m    322\u001B[0m \u001B[38;5;28;01mwith\u001B[39;00m trainer\u001B[38;5;241m.\u001B[39mprofiler\u001B[38;5;241m.\u001B[39mprofile(\u001B[38;5;124mf\u001B[39m\u001B[38;5;124m\"\u001B[39m\u001B[38;5;124m[Strategy]\u001B[39m\u001B[38;5;132;01m{\u001B[39;00mtrainer\u001B[38;5;241m.\u001B[39mstrategy\u001B[38;5;241m.\u001B[39m\u001B[38;5;18m__class__\u001B[39m\u001B[38;5;241m.\u001B[39m\u001B[38;5;18m__name__\u001B[39m\u001B[38;5;132;01m}\u001B[39;00m\u001B[38;5;124m.\u001B[39m\u001B[38;5;132;01m{\u001B[39;00mhook_name\u001B[38;5;132;01m}\u001B[39;00m\u001B[38;5;124m\"\u001B[39m):\n\u001B[1;32m--> 323\u001B[0m     output \u001B[38;5;241m=\u001B[39m \u001B[43mfn\u001B[49m\u001B[43m(\u001B[49m\u001B[38;5;241;43m*\u001B[39;49m\u001B[43margs\u001B[49m\u001B[43m,\u001B[49m\u001B[43m \u001B[49m\u001B[38;5;241;43m*\u001B[39;49m\u001B[38;5;241;43m*\u001B[39;49m\u001B[43mkwargs\u001B[49m\u001B[43m)\u001B[49m\n\u001B[0;32m    325\u001B[0m \u001B[38;5;66;03m# restore current_fx when nested context\u001B[39;00m\n",
      "File \u001B[1;32m~\\PycharmProjects\\ACDC_AI4Imaging\\.venv\\Lib\\site-packages\\pytorch_lightning\\strategies\\strategy.py:391\u001B[0m, in \u001B[0;36mStrategy.training_step\u001B[1;34m(self, *args, **kwargs)\u001B[0m\n\u001B[0;32m    390\u001B[0m     \u001B[38;5;28;01mreturn\u001B[39;00m \u001B[38;5;28mself\u001B[39m\u001B[38;5;241m.\u001B[39m_forward_redirection(\u001B[38;5;28mself\u001B[39m\u001B[38;5;241m.\u001B[39mmodel, \u001B[38;5;28mself\u001B[39m\u001B[38;5;241m.\u001B[39mlightning_module, \u001B[38;5;124m\"\u001B[39m\u001B[38;5;124mtraining_step\u001B[39m\u001B[38;5;124m\"\u001B[39m, \u001B[38;5;241m*\u001B[39margs, \u001B[38;5;241m*\u001B[39m\u001B[38;5;241m*\u001B[39mkwargs)\n\u001B[1;32m--> 391\u001B[0m \u001B[38;5;28;01mreturn\u001B[39;00m \u001B[38;5;28;43mself\u001B[39;49m\u001B[38;5;241;43m.\u001B[39;49m\u001B[43mlightning_module\u001B[49m\u001B[38;5;241;43m.\u001B[39;49m\u001B[43mtraining_step\u001B[49m\u001B[43m(\u001B[49m\u001B[38;5;241;43m*\u001B[39;49m\u001B[43margs\u001B[49m\u001B[43m,\u001B[49m\u001B[43m \u001B[49m\u001B[38;5;241;43m*\u001B[39;49m\u001B[38;5;241;43m*\u001B[39;49m\u001B[43mkwargs\u001B[49m\u001B[43m)\u001B[49m\n",
      "Cell \u001B[1;32mIn[69], line 52\u001B[0m, in \u001B[0;36mMRI_Model.training_step\u001B[1;34m(self, batch, batch_idx)\u001B[0m\n\u001B[0;32m     51\u001B[0m \u001B[38;5;66;03m## log metrics\u001B[39;00m\n\u001B[1;32m---> 52\u001B[0m \u001B[38;5;28mself\u001B[39m\u001B[38;5;241m.\u001B[39mlog_dict(\u001B[38;5;28;43mself\u001B[39;49m\u001B[38;5;241;43m.\u001B[39;49m\u001B[43mtrain_metrics\u001B[49m\u001B[43m(\u001B[49m\u001B[43my_hat\u001B[49m\u001B[43m,\u001B[49m\u001B[43m \u001B[49m\u001B[43my\u001B[49m\u001B[43m)\u001B[49m, on_step\u001B[38;5;241m=\u001B[39m\u001B[38;5;28;01mFalse\u001B[39;00m, on_epoch\u001B[38;5;241m=\u001B[39m\u001B[38;5;28;01mTrue\u001B[39;00m)\n\u001B[0;32m     53\u001B[0m \u001B[38;5;28;01mreturn\u001B[39;00m loss\n",
      "File \u001B[1;32m~\\PycharmProjects\\ACDC_AI4Imaging\\.venv\\Lib\\site-packages\\torch\\nn\\modules\\module.py:1739\u001B[0m, in \u001B[0;36mModule._wrapped_call_impl\u001B[1;34m(self, *args, **kwargs)\u001B[0m\n\u001B[0;32m   1738\u001B[0m \u001B[38;5;28;01melse\u001B[39;00m:\n\u001B[1;32m-> 1739\u001B[0m     \u001B[38;5;28;01mreturn\u001B[39;00m \u001B[38;5;28;43mself\u001B[39;49m\u001B[38;5;241;43m.\u001B[39;49m\u001B[43m_call_impl\u001B[49m\u001B[43m(\u001B[49m\u001B[38;5;241;43m*\u001B[39;49m\u001B[43margs\u001B[49m\u001B[43m,\u001B[49m\u001B[43m \u001B[49m\u001B[38;5;241;43m*\u001B[39;49m\u001B[38;5;241;43m*\u001B[39;49m\u001B[43mkwargs\u001B[49m\u001B[43m)\u001B[49m\n",
      "File \u001B[1;32m~\\PycharmProjects\\ACDC_AI4Imaging\\.venv\\Lib\\site-packages\\torch\\nn\\modules\\module.py:1750\u001B[0m, in \u001B[0;36mModule._call_impl\u001B[1;34m(self, *args, **kwargs)\u001B[0m\n\u001B[0;32m   1747\u001B[0m \u001B[38;5;28;01mif\u001B[39;00m \u001B[38;5;129;01mnot\u001B[39;00m (\u001B[38;5;28mself\u001B[39m\u001B[38;5;241m.\u001B[39m_backward_hooks \u001B[38;5;129;01mor\u001B[39;00m \u001B[38;5;28mself\u001B[39m\u001B[38;5;241m.\u001B[39m_backward_pre_hooks \u001B[38;5;129;01mor\u001B[39;00m \u001B[38;5;28mself\u001B[39m\u001B[38;5;241m.\u001B[39m_forward_hooks \u001B[38;5;129;01mor\u001B[39;00m \u001B[38;5;28mself\u001B[39m\u001B[38;5;241m.\u001B[39m_forward_pre_hooks\n\u001B[0;32m   1748\u001B[0m         \u001B[38;5;129;01mor\u001B[39;00m _global_backward_pre_hooks \u001B[38;5;129;01mor\u001B[39;00m _global_backward_hooks\n\u001B[0;32m   1749\u001B[0m         \u001B[38;5;129;01mor\u001B[39;00m _global_forward_hooks \u001B[38;5;129;01mor\u001B[39;00m _global_forward_pre_hooks):\n\u001B[1;32m-> 1750\u001B[0m     \u001B[38;5;28;01mreturn\u001B[39;00m \u001B[43mforward_call\u001B[49m\u001B[43m(\u001B[49m\u001B[38;5;241;43m*\u001B[39;49m\u001B[43margs\u001B[49m\u001B[43m,\u001B[49m\u001B[43m \u001B[49m\u001B[38;5;241;43m*\u001B[39;49m\u001B[38;5;241;43m*\u001B[39;49m\u001B[43mkwargs\u001B[49m\u001B[43m)\u001B[49m\n\u001B[0;32m   1752\u001B[0m result \u001B[38;5;241m=\u001B[39m \u001B[38;5;28;01mNone\u001B[39;00m\n",
      "File \u001B[1;32m~\\PycharmProjects\\ACDC_AI4Imaging\\.venv\\Lib\\site-packages\\torchmetrics\\collections.py:229\u001B[0m, in \u001B[0;36mMetricCollection.forward\u001B[1;34m(self, *args, **kwargs)\u001B[0m\n\u001B[0;32m    223\u001B[0m \u001B[38;5;250m\u001B[39m\u001B[38;5;124;03m\"\"\"Call forward for each metric sequentially.\u001B[39;00m\n\u001B[0;32m    224\u001B[0m \n\u001B[0;32m    225\u001B[0m \u001B[38;5;124;03mPositional arguments (args) will be passed to every metric in the collection, while keyword arguments (kwargs)\u001B[39;00m\n\u001B[0;32m    226\u001B[0m \u001B[38;5;124;03mwill be filtered based on the signature of the individual metric.\u001B[39;00m\n\u001B[0;32m    227\u001B[0m \n\u001B[0;32m    228\u001B[0m \u001B[38;5;124;03m\"\"\"\u001B[39;00m\n\u001B[1;32m--> 229\u001B[0m \u001B[38;5;28;01mreturn\u001B[39;00m \u001B[38;5;28;43mself\u001B[39;49m\u001B[38;5;241;43m.\u001B[39;49m\u001B[43m_compute_and_reduce\u001B[49m\u001B[43m(\u001B[49m\u001B[38;5;124;43m\"\u001B[39;49m\u001B[38;5;124;43mforward\u001B[39;49m\u001B[38;5;124;43m\"\u001B[39;49m\u001B[43m,\u001B[49m\u001B[43m \u001B[49m\u001B[38;5;241;43m*\u001B[39;49m\u001B[43margs\u001B[49m\u001B[43m,\u001B[49m\u001B[43m \u001B[49m\u001B[38;5;241;43m*\u001B[39;49m\u001B[38;5;241;43m*\u001B[39;49m\u001B[43mkwargs\u001B[49m\u001B[43m)\u001B[49m\n",
      "File \u001B[1;32m~\\PycharmProjects\\ACDC_AI4Imaging\\.venv\\Lib\\site-packages\\torchmetrics\\collections.py:370\u001B[0m, in \u001B[0;36mMetricCollection._compute_and_reduce\u001B[1;34m(self, method_name, *args, **kwargs)\u001B[0m\n\u001B[0;32m    369\u001B[0m \u001B[38;5;28;01melif\u001B[39;00m method_name \u001B[38;5;241m==\u001B[39m \u001B[38;5;124m\"\u001B[39m\u001B[38;5;124mforward\u001B[39m\u001B[38;5;124m\"\u001B[39m:\n\u001B[1;32m--> 370\u001B[0m     res \u001B[38;5;241m=\u001B[39m \u001B[43mm\u001B[49m\u001B[43m(\u001B[49m\u001B[38;5;241;43m*\u001B[39;49m\u001B[43margs\u001B[49m\u001B[43m,\u001B[49m\u001B[43m \u001B[49m\u001B[38;5;241;43m*\u001B[39;49m\u001B[38;5;241;43m*\u001B[39;49m\u001B[43mm\u001B[49m\u001B[38;5;241;43m.\u001B[39;49m\u001B[43m_filter_kwargs\u001B[49m\u001B[43m(\u001B[49m\u001B[38;5;241;43m*\u001B[39;49m\u001B[38;5;241;43m*\u001B[39;49m\u001B[43mkwargs\u001B[49m\u001B[43m)\u001B[49m\u001B[43m)\u001B[49m\n\u001B[0;32m    371\u001B[0m \u001B[38;5;28;01melse\u001B[39;00m:\n",
      "File \u001B[1;32m~\\PycharmProjects\\ACDC_AI4Imaging\\.venv\\Lib\\site-packages\\torch\\nn\\modules\\module.py:1739\u001B[0m, in \u001B[0;36mModule._wrapped_call_impl\u001B[1;34m(self, *args, **kwargs)\u001B[0m\n\u001B[0;32m   1738\u001B[0m \u001B[38;5;28;01melse\u001B[39;00m:\n\u001B[1;32m-> 1739\u001B[0m     \u001B[38;5;28;01mreturn\u001B[39;00m \u001B[38;5;28;43mself\u001B[39;49m\u001B[38;5;241;43m.\u001B[39;49m\u001B[43m_call_impl\u001B[49m\u001B[43m(\u001B[49m\u001B[38;5;241;43m*\u001B[39;49m\u001B[43margs\u001B[49m\u001B[43m,\u001B[49m\u001B[43m \u001B[49m\u001B[38;5;241;43m*\u001B[39;49m\u001B[38;5;241;43m*\u001B[39;49m\u001B[43mkwargs\u001B[49m\u001B[43m)\u001B[49m\n",
      "File \u001B[1;32m~\\PycharmProjects\\ACDC_AI4Imaging\\.venv\\Lib\\site-packages\\torch\\nn\\modules\\module.py:1750\u001B[0m, in \u001B[0;36mModule._call_impl\u001B[1;34m(self, *args, **kwargs)\u001B[0m\n\u001B[0;32m   1747\u001B[0m \u001B[38;5;28;01mif\u001B[39;00m \u001B[38;5;129;01mnot\u001B[39;00m (\u001B[38;5;28mself\u001B[39m\u001B[38;5;241m.\u001B[39m_backward_hooks \u001B[38;5;129;01mor\u001B[39;00m \u001B[38;5;28mself\u001B[39m\u001B[38;5;241m.\u001B[39m_backward_pre_hooks \u001B[38;5;129;01mor\u001B[39;00m \u001B[38;5;28mself\u001B[39m\u001B[38;5;241m.\u001B[39m_forward_hooks \u001B[38;5;129;01mor\u001B[39;00m \u001B[38;5;28mself\u001B[39m\u001B[38;5;241m.\u001B[39m_forward_pre_hooks\n\u001B[0;32m   1748\u001B[0m         \u001B[38;5;129;01mor\u001B[39;00m _global_backward_pre_hooks \u001B[38;5;129;01mor\u001B[39;00m _global_backward_hooks\n\u001B[0;32m   1749\u001B[0m         \u001B[38;5;129;01mor\u001B[39;00m _global_forward_hooks \u001B[38;5;129;01mor\u001B[39;00m _global_forward_pre_hooks):\n\u001B[1;32m-> 1750\u001B[0m     \u001B[38;5;28;01mreturn\u001B[39;00m \u001B[43mforward_call\u001B[49m\u001B[43m(\u001B[49m\u001B[38;5;241;43m*\u001B[39;49m\u001B[43margs\u001B[49m\u001B[43m,\u001B[49m\u001B[43m \u001B[49m\u001B[38;5;241;43m*\u001B[39;49m\u001B[38;5;241;43m*\u001B[39;49m\u001B[43mkwargs\u001B[49m\u001B[43m)\u001B[49m\n\u001B[0;32m   1752\u001B[0m result \u001B[38;5;241m=\u001B[39m \u001B[38;5;28;01mNone\u001B[39;00m\n",
      "File \u001B[1;32m~\\PycharmProjects\\ACDC_AI4Imaging\\.venv\\Lib\\site-packages\\torchmetrics\\metric.py:316\u001B[0m, in \u001B[0;36mMetric.forward\u001B[1;34m(self, *args, **kwargs)\u001B[0m\n\u001B[0;32m    315\u001B[0m \u001B[38;5;28;01melse\u001B[39;00m:\n\u001B[1;32m--> 316\u001B[0m     \u001B[38;5;28mself\u001B[39m\u001B[38;5;241m.\u001B[39m_forward_cache \u001B[38;5;241m=\u001B[39m \u001B[38;5;28;43mself\u001B[39;49m\u001B[38;5;241;43m.\u001B[39;49m\u001B[43m_forward_reduce_state_update\u001B[49m\u001B[43m(\u001B[49m\u001B[38;5;241;43m*\u001B[39;49m\u001B[43margs\u001B[49m\u001B[43m,\u001B[49m\u001B[43m \u001B[49m\u001B[38;5;241;43m*\u001B[39;49m\u001B[38;5;241;43m*\u001B[39;49m\u001B[43mkwargs\u001B[49m\u001B[43m)\u001B[49m\n\u001B[0;32m    318\u001B[0m \u001B[38;5;28;01mreturn\u001B[39;00m \u001B[38;5;28mself\u001B[39m\u001B[38;5;241m.\u001B[39m_forward_cache\n",
      "File \u001B[1;32m~\\PycharmProjects\\ACDC_AI4Imaging\\.venv\\Lib\\site-packages\\torchmetrics\\metric.py:386\u001B[0m, in \u001B[0;36mMetric._forward_reduce_state_update\u001B[1;34m(self, *args, **kwargs)\u001B[0m\n\u001B[0;32m    385\u001B[0m \u001B[38;5;28mself\u001B[39m\u001B[38;5;241m.\u001B[39mupdate(\u001B[38;5;241m*\u001B[39margs, \u001B[38;5;241m*\u001B[39m\u001B[38;5;241m*\u001B[39mkwargs)\n\u001B[1;32m--> 386\u001B[0m batch_val \u001B[38;5;241m=\u001B[39m \u001B[38;5;28;43mself\u001B[39;49m\u001B[38;5;241;43m.\u001B[39;49m\u001B[43mcompute\u001B[49m\u001B[43m(\u001B[49m\u001B[43m)\u001B[49m\n\u001B[0;32m    388\u001B[0m \u001B[38;5;66;03m# reduce batch and global state\u001B[39;00m\n",
      "File \u001B[1;32m~\\PycharmProjects\\ACDC_AI4Imaging\\.venv\\Lib\\site-packages\\torchmetrics\\metric.py:700\u001B[0m, in \u001B[0;36mMetric._wrap_compute.<locals>.wrapped_func\u001B[1;34m(*args, **kwargs)\u001B[0m\n\u001B[0;32m    695\u001B[0m \u001B[38;5;28;01mwith\u001B[39;00m \u001B[38;5;28mself\u001B[39m\u001B[38;5;241m.\u001B[39msync_context(\n\u001B[0;32m    696\u001B[0m     dist_sync_fn\u001B[38;5;241m=\u001B[39m\u001B[38;5;28mself\u001B[39m\u001B[38;5;241m.\u001B[39mdist_sync_fn,\n\u001B[0;32m    697\u001B[0m     should_sync\u001B[38;5;241m=\u001B[39m\u001B[38;5;28mself\u001B[39m\u001B[38;5;241m.\u001B[39m_to_sync,\n\u001B[0;32m    698\u001B[0m     should_unsync\u001B[38;5;241m=\u001B[39m\u001B[38;5;28mself\u001B[39m\u001B[38;5;241m.\u001B[39m_should_unsync,\n\u001B[0;32m    699\u001B[0m ):\n\u001B[1;32m--> 700\u001B[0m     value \u001B[38;5;241m=\u001B[39m _squeeze_if_scalar(\u001B[43mcompute\u001B[49m\u001B[43m(\u001B[49m\u001B[38;5;241;43m*\u001B[39;49m\u001B[43margs\u001B[49m\u001B[43m,\u001B[49m\u001B[43m \u001B[49m\u001B[38;5;241;43m*\u001B[39;49m\u001B[38;5;241;43m*\u001B[39;49m\u001B[43mkwargs\u001B[49m\u001B[43m)\u001B[49m)\n\u001B[0;32m    701\u001B[0m     \u001B[38;5;66;03m# clone tensor to avoid in-place operations after compute, altering already computed results\u001B[39;00m\n",
      "File \u001B[1;32m~\\PycharmProjects\\ACDC_AI4Imaging\\.venv\\Lib\\site-packages\\torchmetrics\\classification\\precision_recall.py:742\u001B[0m, in \u001B[0;36mMulticlassRecall.compute\u001B[1;34m(self)\u001B[0m\n\u001B[0;32m    741\u001B[0m tp, fp, tn, fn \u001B[38;5;241m=\u001B[39m \u001B[38;5;28mself\u001B[39m\u001B[38;5;241m.\u001B[39m_final_state()\n\u001B[1;32m--> 742\u001B[0m \u001B[38;5;28;01mreturn\u001B[39;00m \u001B[43m_precision_recall_reduce\u001B[49m\u001B[43m(\u001B[49m\n\u001B[0;32m    743\u001B[0m \u001B[43m    \u001B[49m\u001B[38;5;124;43m\"\u001B[39;49m\u001B[38;5;124;43mrecall\u001B[39;49m\u001B[38;5;124;43m\"\u001B[39;49m\u001B[43m,\u001B[49m\n\u001B[0;32m    744\u001B[0m \u001B[43m    \u001B[49m\u001B[43mtp\u001B[49m\u001B[43m,\u001B[49m\n\u001B[0;32m    745\u001B[0m \u001B[43m    \u001B[49m\u001B[43mfp\u001B[49m\u001B[43m,\u001B[49m\n\u001B[0;32m    746\u001B[0m \u001B[43m    \u001B[49m\u001B[43mtn\u001B[49m\u001B[43m,\u001B[49m\n\u001B[0;32m    747\u001B[0m \u001B[43m    \u001B[49m\u001B[43mfn\u001B[49m\u001B[43m,\u001B[49m\n\u001B[0;32m    748\u001B[0m \u001B[43m    \u001B[49m\u001B[43maverage\u001B[49m\u001B[38;5;241;43m=\u001B[39;49m\u001B[38;5;28;43mself\u001B[39;49m\u001B[38;5;241;43m.\u001B[39;49m\u001B[43maverage\u001B[49m\u001B[43m,\u001B[49m\n\u001B[0;32m    749\u001B[0m \u001B[43m    \u001B[49m\u001B[43mmultidim_average\u001B[49m\u001B[38;5;241;43m=\u001B[39;49m\u001B[38;5;28;43mself\u001B[39;49m\u001B[38;5;241;43m.\u001B[39;49m\u001B[43mmultidim_average\u001B[49m\u001B[43m,\u001B[49m\n\u001B[0;32m    750\u001B[0m \u001B[43m    \u001B[49m\u001B[43mtop_k\u001B[49m\u001B[38;5;241;43m=\u001B[39;49m\u001B[38;5;28;43mself\u001B[39;49m\u001B[38;5;241;43m.\u001B[39;49m\u001B[43mtop_k\u001B[49m\u001B[43m,\u001B[49m\n\u001B[0;32m    751\u001B[0m \u001B[43m    \u001B[49m\u001B[43mzero_division\u001B[49m\u001B[38;5;241;43m=\u001B[39;49m\u001B[38;5;28;43mself\u001B[39;49m\u001B[38;5;241;43m.\u001B[39;49m\u001B[43mzero_division\u001B[49m\u001B[43m,\u001B[49m\n\u001B[0;32m    752\u001B[0m \u001B[43m\u001B[49m\u001B[43m)\u001B[49m\n",
      "File \u001B[1;32m~\\PycharmProjects\\ACDC_AI4Imaging\\.venv\\Lib\\site-packages\\torchmetrics\\functional\\classification\\precision_recall.py:58\u001B[0m, in \u001B[0;36m_precision_recall_reduce\u001B[1;34m(stat, tp, fp, tn, fn, average, multidim_average, multilabel, top_k, zero_division)\u001B[0m\n\u001B[0;32m     56\u001B[0m     \u001B[38;5;28;01mreturn\u001B[39;00m _safe_divide(tp, tp \u001B[38;5;241m+\u001B[39m different_stat, zero_division)\n\u001B[1;32m---> 58\u001B[0m score \u001B[38;5;241m=\u001B[39m \u001B[43m_safe_divide\u001B[49m\u001B[43m(\u001B[49m\u001B[43mtp\u001B[49m\u001B[43m,\u001B[49m\u001B[43m \u001B[49m\u001B[43mtp\u001B[49m\u001B[43m \u001B[49m\u001B[38;5;241;43m+\u001B[39;49m\u001B[43m \u001B[49m\u001B[43mdifferent_stat\u001B[49m\u001B[43m,\u001B[49m\u001B[43m \u001B[49m\u001B[43mzero_division\u001B[49m\u001B[43m)\u001B[49m\n\u001B[0;32m     59\u001B[0m \u001B[38;5;28;01mreturn\u001B[39;00m _adjust_weights_safe_divide(score, average, multilabel, tp, fp, fn, top_k\u001B[38;5;241m=\u001B[39mtop_k)\n",
      "File \u001B[1;32m~\\PycharmProjects\\ACDC_AI4Imaging\\.venv\\Lib\\site-packages\\torchmetrics\\utilities\\compute.py:68\u001B[0m, in \u001B[0;36m_safe_divide\u001B[1;34m(num, denom, zero_division)\u001B[0m\n\u001B[0;32m     67\u001B[0m zero_division_tensor \u001B[38;5;241m=\u001B[39m torch\u001B[38;5;241m.\u001B[39mtensor(zero_division, dtype\u001B[38;5;241m=\u001B[39mnum\u001B[38;5;241m.\u001B[39mdtype)\u001B[38;5;241m.\u001B[39mto(num\u001B[38;5;241m.\u001B[39mdevice, non_blocking\u001B[38;5;241m=\u001B[39m\u001B[38;5;28;01mTrue\u001B[39;00m)\n\u001B[1;32m---> 68\u001B[0m \u001B[38;5;28;01mreturn\u001B[39;00m torch\u001B[38;5;241m.\u001B[39mwhere(\u001B[43mdenom\u001B[49m\u001B[43m \u001B[49m\u001B[38;5;241;43m!=\u001B[39;49m\u001B[43m \u001B[49m\u001B[38;5;241;43m0\u001B[39;49m, num \u001B[38;5;241m/\u001B[39m denom, zero_division_tensor)\n",
      "File \u001B[1;32m~\\PycharmProjects\\ACDC_AI4Imaging\\.venv\\Lib\\site-packages\\monai\\data\\meta_tensor.py:282\u001B[0m, in \u001B[0;36mMetaTensor.__torch_function__\u001B[1;34m(cls, func, types, args, kwargs)\u001B[0m\n\u001B[0;32m    281\u001B[0m     kwargs \u001B[38;5;241m=\u001B[39m {}\n\u001B[1;32m--> 282\u001B[0m ret \u001B[38;5;241m=\u001B[39m \u001B[38;5;28;43msuper\u001B[39;49m\u001B[43m(\u001B[49m\u001B[43m)\u001B[49m\u001B[38;5;241;43m.\u001B[39;49m\u001B[43m__torch_function__\u001B[49m\u001B[43m(\u001B[49m\u001B[43mfunc\u001B[49m\u001B[43m,\u001B[49m\u001B[43m \u001B[49m\u001B[43mtypes\u001B[49m\u001B[43m,\u001B[49m\u001B[43m \u001B[49m\u001B[43margs\u001B[49m\u001B[43m,\u001B[49m\u001B[43m \u001B[49m\u001B[43mkwargs\u001B[49m\u001B[43m)\u001B[49m\n\u001B[0;32m    283\u001B[0m \u001B[38;5;66;03m# if `out` has been used as argument, metadata is not copied, nothing to do.\u001B[39;00m\n\u001B[0;32m    284\u001B[0m \u001B[38;5;66;03m# if \"out\" in kwargs:\u001B[39;00m\n\u001B[0;32m    285\u001B[0m \u001B[38;5;66;03m#     return ret\u001B[39;00m\n",
      "File \u001B[1;32m~\\PycharmProjects\\ACDC_AI4Imaging\\.venv\\Lib\\site-packages\\torch\\_tensor.py:1648\u001B[0m, in \u001B[0;36mTensor.__torch_function__\u001B[1;34m(cls, func, types, args, kwargs)\u001B[0m\n\u001B[0;32m   1647\u001B[0m \u001B[38;5;28;01mwith\u001B[39;00m _C\u001B[38;5;241m.\u001B[39mDisableTorchFunctionSubclass():\n\u001B[1;32m-> 1648\u001B[0m     ret \u001B[38;5;241m=\u001B[39m \u001B[43mfunc\u001B[49m\u001B[43m(\u001B[49m\u001B[38;5;241;43m*\u001B[39;49m\u001B[43margs\u001B[49m\u001B[43m,\u001B[49m\u001B[43m \u001B[49m\u001B[38;5;241;43m*\u001B[39;49m\u001B[38;5;241;43m*\u001B[39;49m\u001B[43mkwargs\u001B[49m\u001B[43m)\u001B[49m\n\u001B[0;32m   1649\u001B[0m     \u001B[38;5;28;01mif\u001B[39;00m func \u001B[38;5;129;01min\u001B[39;00m get_default_nowrap_functions():\n",
      "\u001B[1;31mKeyboardInterrupt\u001B[0m: ",
      "\nDuring handling of the above exception, another exception occurred:\n",
      "\u001B[1;31mNameError\u001B[0m                                 Traceback (most recent call last)",
      "Cell \u001B[1;32mIn[75], line 37\u001B[0m\n\u001B[0;32m     15\u001B[0m \u001B[38;5;66;03m# Early stopping does not seem to work that well here...\u001B[39;00m\n\u001B[0;32m     16\u001B[0m \u001B[38;5;66;03m# early_stopping = pl.callbacks.early_stopping.EarlyStopping(\u001B[39;00m\n\u001B[0;32m     17\u001B[0m \u001B[38;5;66;03m#     monitor=\"Loss/val\",\u001B[39;00m\n\u001B[1;32m   (...)\u001B[0m\n\u001B[0;32m     20\u001B[0m \u001B[38;5;66;03m#     verbose=True,\u001B[39;00m\n\u001B[0;32m     21\u001B[0m \u001B[38;5;66;03m# )\u001B[39;00m\n\u001B[0;32m     22\u001B[0m trainer \u001B[38;5;241m=\u001B[39m pl\u001B[38;5;241m.\u001B[39mTrainer(\n\u001B[0;32m     23\u001B[0m     devices\u001B[38;5;241m=\u001B[39m\u001B[38;5;124m'\u001B[39m\u001B[38;5;124mauto\u001B[39m\u001B[38;5;124m'\u001B[39m,\n\u001B[0;32m     24\u001B[0m     \u001B[38;5;66;03m#precision=\"16-mixed\",\u001B[39;00m\n\u001B[1;32m   (...)\u001B[0m\n\u001B[0;32m     34\u001B[0m     log_every_n_steps\u001B[38;5;241m=\u001B[39m\u001B[38;5;241m1\u001B[39m,\n\u001B[0;32m     35\u001B[0m )\n\u001B[1;32m---> 37\u001B[0m \u001B[43mtrainer\u001B[49m\u001B[38;5;241;43m.\u001B[39;49m\u001B[43mfit\u001B[49m\u001B[43m(\u001B[49m\u001B[43mmodel\u001B[49m\u001B[43m,\u001B[49m\u001B[43m \u001B[49m\u001B[43mdatamodule\u001B[49m\u001B[38;5;241;43m=\u001B[39;49m\u001B[43mdatamodule\u001B[49m\u001B[43m)\u001B[49m\n",
      "File \u001B[1;32m~\\PycharmProjects\\ACDC_AI4Imaging\\.venv\\Lib\\site-packages\\pytorch_lightning\\trainer\\trainer.py:539\u001B[0m, in \u001B[0;36mTrainer.fit\u001B[1;34m(self, model, train_dataloaders, val_dataloaders, datamodule, ckpt_path)\u001B[0m\n\u001B[0;32m    537\u001B[0m \u001B[38;5;28mself\u001B[39m\u001B[38;5;241m.\u001B[39mstate\u001B[38;5;241m.\u001B[39mstatus \u001B[38;5;241m=\u001B[39m TrainerStatus\u001B[38;5;241m.\u001B[39mRUNNING\n\u001B[0;32m    538\u001B[0m \u001B[38;5;28mself\u001B[39m\u001B[38;5;241m.\u001B[39mtraining \u001B[38;5;241m=\u001B[39m \u001B[38;5;28;01mTrue\u001B[39;00m\n\u001B[1;32m--> 539\u001B[0m \u001B[43mcall\u001B[49m\u001B[38;5;241;43m.\u001B[39;49m\u001B[43m_call_and_handle_interrupt\u001B[49m\u001B[43m(\u001B[49m\n\u001B[0;32m    540\u001B[0m \u001B[43m    \u001B[49m\u001B[38;5;28;43mself\u001B[39;49m\u001B[43m,\u001B[49m\u001B[43m \u001B[49m\u001B[38;5;28;43mself\u001B[39;49m\u001B[38;5;241;43m.\u001B[39;49m\u001B[43m_fit_impl\u001B[49m\u001B[43m,\u001B[49m\u001B[43m \u001B[49m\u001B[43mmodel\u001B[49m\u001B[43m,\u001B[49m\u001B[43m \u001B[49m\u001B[43mtrain_dataloaders\u001B[49m\u001B[43m,\u001B[49m\u001B[43m \u001B[49m\u001B[43mval_dataloaders\u001B[49m\u001B[43m,\u001B[49m\u001B[43m \u001B[49m\u001B[43mdatamodule\u001B[49m\u001B[43m,\u001B[49m\u001B[43m \u001B[49m\u001B[43mckpt_path\u001B[49m\n\u001B[0;32m    541\u001B[0m \u001B[43m\u001B[49m\u001B[43m)\u001B[49m\n",
      "File \u001B[1;32m~\\PycharmProjects\\ACDC_AI4Imaging\\.venv\\Lib\\site-packages\\pytorch_lightning\\trainer\\call.py:64\u001B[0m, in \u001B[0;36m_call_and_handle_interrupt\u001B[1;34m(trainer, trainer_fn, *args, **kwargs)\u001B[0m\n\u001B[0;32m     62\u001B[0m     \u001B[38;5;28;01mif\u001B[39;00m \u001B[38;5;28misinstance\u001B[39m(launcher, _SubprocessScriptLauncher):\n\u001B[0;32m     63\u001B[0m         launcher\u001B[38;5;241m.\u001B[39mkill(_get_sigkill_signal())\n\u001B[1;32m---> 64\u001B[0m     \u001B[43mexit\u001B[49m(\u001B[38;5;241m1\u001B[39m)\n\u001B[0;32m     66\u001B[0m \u001B[38;5;28;01mexcept\u001B[39;00m \u001B[38;5;167;01mBaseException\u001B[39;00m \u001B[38;5;28;01mas\u001B[39;00m exception:\n\u001B[0;32m     67\u001B[0m     _interrupt(trainer, exception)\n",
      "\u001B[1;31mNameError\u001B[0m: name 'exit' is not defined"
     ]
    }
   ],
   "execution_count": 75
  },
  {
   "metadata": {
    "ExecuteTime": {
     "end_time": "2025-02-08T16:50:23.113864Z",
     "start_time": "2025-02-08T16:50:18.808326Z"
    }
   },
   "cell_type": "code",
   "source": [
    "%load_ext tensorboard\n",
    "%tensorboard --logdir lightning_logs/"
   ],
   "outputs": [
    {
     "name": "stdout",
     "output_type": "stream",
     "text": [
      "The tensorboard extension is already loaded. To reload it, use:\n",
      "  %reload_ext tensorboard\n"
     ]
    },
    {
     "data": {
      "text/plain": [
       "<IPython.core.display.HTML object>"
      ],
      "text/html": [
       "\n",
       "      <iframe id=\"tensorboard-frame-ac1f8d0f6190d504\" width=\"100%\" height=\"800\" frameborder=\"0\">\n",
       "      </iframe>\n",
       "      <script>\n",
       "        (function() {\n",
       "          const frame = document.getElementById(\"tensorboard-frame-ac1f8d0f6190d504\");\n",
       "          const url = new URL(\"/\", window.location);\n",
       "          const port = 6006;\n",
       "          if (port) {\n",
       "            url.port = port;\n",
       "          }\n",
       "          frame.src = url;\n",
       "        })();\n",
       "      </script>\n",
       "    "
      ]
     },
     "metadata": {},
     "output_type": "display_data"
    }
   ],
   "execution_count": 43
  },
  {
   "metadata": {},
   "cell_type": "markdown",
   "source": [
    "## Hyperparameter Tuning\n",
    "\n",
    "[Discuss any hyperparameter tuning methods you've applied, such as Grid Search or Random Search, and the rationale behind them.]\n"
   ]
  },
  {
   "metadata": {},
   "cell_type": "code",
   "source": [
    "import optuna\n",
    "\n",
    "def objective(trial: optuna.trial.Trial) -> float:\n",
    "    # We optimize ??\n",
    "    crop_foreground = trial.suggest_categorical(\"crop_foreground\", [True, False])\n",
    "    intensity_norm = trial.suggest_categorical(\"intensity_norm\", ['linear', 'histogram', 'adaptive'])\n",
    "    mask_intensity = trial.suggest_categorical(\"mask_intensity\", [None, 'single', 'multi'])\n",
    "    spacing_s = trial.suggest_categorical(\"spacing_s\", [5., 10.])\n",
    "    spacing_pl = trial.suggest_float(\"spacing_pl\", 1, 3, step=0.5)\n",
    "    use_pad = trial.suggest_categorical(\"use_pad\", [True, False])\n",
    "    batch_size = trial.suggest_categorical(\"batch_size\", [5, 10, 15])\n",
    "\n",
    "    datamodule = MRIDataModule(\n",
    "        '../data',\n",
    "        batch_size=batch_size,\n",
    "        train_val_ratio=0.8,\n",
    "        concat_dim = 0,\n",
    "        use_cache=True,\n",
    "        crop_foreground = True, #crop_foreground,\n",
    "        intensity_norm = intensity_norm,\n",
    "        mask_intensity = mask_intensity,\n",
    "        spacing= (5,2,2), #(spacing_s, spacing_pl, spacing_pl),\n",
    "        use_pad = use_pad,\n",
    "        #augmentations = transforms.Compose([transforms.RandRotate90d(['img'], spatial_axes=(1,2))])\n",
    "    )\n",
    "\n",
    "    net = monai.networks.nets.resnet18(n_input_channels=datamodule.n_channels, num_classes=5)\n",
    "    model = MRI_Model(\n",
    "        net=net,\n",
    "        class_labels=datamodule.labels,\n",
    "        learning_rate=LR,\n",
    "        weight_decay=0.02, # regularization to prevent overfitting\n",
    "    )\n",
    "\n",
    "    trainer = pl.Trainer(\n",
    "        enable_progress_bar=False,\n",
    "        devices='auto',\n",
    "        precision=\"16-mixed\",\n",
    "        max_epochs=50,\n",
    "        accumulate_grad_batches=1,\n",
    "        gradient_clip_val=1.0,\n",
    "        callbacks=[#early_stopping,\n",
    "                    pl.callbacks.LearningRateMonitor(),\n",
    "        ],\n",
    "        logger=pl.loggers.TensorBoardLogger(save_dir=\"lightning_logs\"),\n",
    "        log_every_n_steps=1,\n",
    "    )\n",
    "    trainer.fit(model, datamodule=datamodule)\n",
    "\n",
    "    return trainer.callback_metrics[\"F1_score/Val\"].item()\n",
    "\n",
    "study = optuna.create_study()\n",
    "study.optimize(objective, n_trials=100)\n",
    "\n",
    "study.best_params  # E.g. {'x': 2.002108042}"
   ],
   "outputs": [
    {
     "name": "stderr",
     "output_type": "stream",
     "text": [
      "`Trainer.fit` stopped: `max_epochs=50` reached.\n",
      "[I 2025-02-08 21:54:49,780] Trial 44 finished with value: 0.5253968238830566 and parameters: {'crop_foreground': True, 'intensity_norm': 'histogram', 'mask_intensity': None, 'spacing_s': 5.0, 'spacing_pl': 2.0, 'use_pad': True, 'batch_size': 15}. Best is trial 27 with value: 0.4531745910644531.\n",
      "Using 16bit Automatic Mixed Precision (AMP)\n",
      "GPU available: True (cuda), used: True\n",
      "TPU available: False, using: 0 TPU cores\n",
      "HPU available: False, using: 0 HPUs\n",
      "LOCAL_RANK: 0 - CUDA_VISIBLE_DEVICES: [0]\n"
     ]
    },
    {
     "data": {
      "text/plain": [
       "┏━━━┳━━━━━━━━━━━━━━━┳━━━━━━━━━━━━━━━━━━━━━━━━━━━┳━━━━━━━━┳━━━━━━━┓\n",
       "┃\u001B[1;35m \u001B[0m\u001B[1;35m \u001B[0m\u001B[1;35m \u001B[0m┃\u001B[1;35m \u001B[0m\u001B[1;35mName         \u001B[0m\u001B[1;35m \u001B[0m┃\u001B[1;35m \u001B[0m\u001B[1;35mType                     \u001B[0m\u001B[1;35m \u001B[0m┃\u001B[1;35m \u001B[0m\u001B[1;35mParams\u001B[0m\u001B[1;35m \u001B[0m┃\u001B[1;35m \u001B[0m\u001B[1;35mMode \u001B[0m\u001B[1;35m \u001B[0m┃\n",
       "┡━━━╇━━━━━━━━━━━━━━━╇━━━━━━━━━━━━━━━━━━━━━━━━━━━╇━━━━━━━━╇━━━━━━━┩\n",
       "│\u001B[2m \u001B[0m\u001B[2m0\u001B[0m\u001B[2m \u001B[0m│ net           │ ResNet                    │ 33.2 M │ train │\n",
       "│\u001B[2m \u001B[0m\u001B[2m1\u001B[0m\u001B[2m \u001B[0m│ criterion     │ CrossEntropyLoss          │      0 │ train │\n",
       "│\u001B[2m \u001B[0m\u001B[2m2\u001B[0m\u001B[2m \u001B[0m│ train_metrics │ MetricCollection          │      0 │ train │\n",
       "│\u001B[2m \u001B[0m\u001B[2m3\u001B[0m\u001B[2m \u001B[0m│ valid_metrics │ MetricCollection          │      0 │ train │\n",
       "│\u001B[2m \u001B[0m\u001B[2m4\u001B[0m\u001B[2m \u001B[0m│ conf_mat      │ MulticlassConfusionMatrix │      0 │ train │\n",
       "└───┴───────────────┴───────────────────────────┴────────┴───────┘\n"
      ],
      "text/html": [
       "<pre style=\"white-space:pre;overflow-x:auto;line-height:normal;font-family:Menlo,'DejaVu Sans Mono',consolas,'Courier New',monospace\">┏━━━┳━━━━━━━━━━━━━━━┳━━━━━━━━━━━━━━━━━━━━━━━━━━━┳━━━━━━━━┳━━━━━━━┓\n",
       "┃<span style=\"color: #800080; text-decoration-color: #800080; font-weight: bold\">   </span>┃<span style=\"color: #800080; text-decoration-color: #800080; font-weight: bold\"> Name          </span>┃<span style=\"color: #800080; text-decoration-color: #800080; font-weight: bold\"> Type                      </span>┃<span style=\"color: #800080; text-decoration-color: #800080; font-weight: bold\"> Params </span>┃<span style=\"color: #800080; text-decoration-color: #800080; font-weight: bold\"> Mode  </span>┃\n",
       "┡━━━╇━━━━━━━━━━━━━━━╇━━━━━━━━━━━━━━━━━━━━━━━━━━━╇━━━━━━━━╇━━━━━━━┩\n",
       "│<span style=\"color: #7f7f7f; text-decoration-color: #7f7f7f\"> 0 </span>│ net           │ ResNet                    │ 33.2 M │ train │\n",
       "│<span style=\"color: #7f7f7f; text-decoration-color: #7f7f7f\"> 1 </span>│ criterion     │ CrossEntropyLoss          │      0 │ train │\n",
       "│<span style=\"color: #7f7f7f; text-decoration-color: #7f7f7f\"> 2 </span>│ train_metrics │ MetricCollection          │      0 │ train │\n",
       "│<span style=\"color: #7f7f7f; text-decoration-color: #7f7f7f\"> 3 </span>│ valid_metrics │ MetricCollection          │      0 │ train │\n",
       "│<span style=\"color: #7f7f7f; text-decoration-color: #7f7f7f\"> 4 </span>│ conf_mat      │ MulticlassConfusionMatrix │      0 │ train │\n",
       "└───┴───────────────┴───────────────────────────┴────────┴───────┘\n",
       "</pre>\n"
      ]
     },
     "metadata": {},
     "output_type": "display_data"
    },
    {
     "data": {
      "text/plain": [
       "\u001B[1mTrainable params\u001B[0m: 33.2 M                                                                     \n",
       "\u001B[1mNon-trainable params\u001B[0m: 0                                                                      \n",
       "\u001B[1mTotal params\u001B[0m: 33.2 M                                                                         \n",
       "\u001B[1mTotal estimated model params size (MB)\u001B[0m: 132                                                  \n",
       "\u001B[1mModules in train mode\u001B[0m: 80                                                                    \n",
       "\u001B[1mModules in eval mode\u001B[0m: 0                                                                      \n"
      ],
      "text/html": [
       "<pre style=\"white-space:pre;overflow-x:auto;line-height:normal;font-family:Menlo,'DejaVu Sans Mono',consolas,'Courier New',monospace\"><span style=\"font-weight: bold\">Trainable params</span>: 33.2 M                                                                     \n",
       "<span style=\"font-weight: bold\">Non-trainable params</span>: 0                                                                      \n",
       "<span style=\"font-weight: bold\">Total params</span>: 33.2 M                                                                         \n",
       "<span style=\"font-weight: bold\">Total estimated model params size (MB)</span>: 132                                                  \n",
       "<span style=\"font-weight: bold\">Modules in train mode</span>: 80                                                                    \n",
       "<span style=\"font-weight: bold\">Modules in eval mode</span>: 0                                                                      \n",
       "</pre>\n"
      ]
     },
     "metadata": {},
     "output_type": "display_data"
    },
    {
     "data": {
      "text/plain": [
       "Output()"
      ],
      "application/vnd.jupyter.widget-view+json": {
       "version_major": 2,
       "version_minor": 0,
       "model_id": "6bdb0fb3aa754ba5a697b7ce38239e69"
      }
     },
     "metadata": {},
     "output_type": "display_data"
    }
   ],
   "execution_count": null
  },
  {
   "cell_type": "markdown",
   "metadata": {},
   "source": [
    "## Evaluation Metrics\n",
    "\n",
    "[Clearly specify which metrics you'll use to evaluate the model performance, and why you've chosen these metrics.]\n"
   ]
  },
  {
   "cell_type": "code",
   "metadata": {
    "ExecuteTime": {
     "end_time": "2025-02-06T20:00:36.479783Z",
     "start_time": "2025-02-06T20:00:01.933469Z"
    }
   },
   "source": [
    "y_pred = trainer.predict(datamodule=datamodule)\n",
    "labels = [datamodule.labels[k] for k in torch.stack(y_pred).squeeze().argmax(dim=1).tolist()]\n",
    "pd.Series(labels, index=data_helper.load_all_patients(\"../data/test\", return_df=True).index, name=\"label\").to_csv(\"submission.csv\")"
   ],
   "outputs": [
    {
     "name": "stderr",
     "output_type": "stream",
     "text": [
      "C:\\Users\\leosi\\PycharmProjects\\ACDC_AI4Imaging\\.venv\\Lib\\site-packages\\pytorch_lightning\\trainer\\connectors\\checkpoint_connector.py:145: `.predict(ckpt_path=None)` was called without a model. The best model of the previous `fit` call will be used. You can pass `.predict(ckpt_path='best')` to use the best model or `.predict(ckpt_path='last')` to use the last model. If you pass a value, this warning will be silenced.\n",
      "Restoring states from the checkpoint path at lightning_logs\\lightning_logs\\version_18\\checkpoints\\epoch=79-step=1280.ckpt\n",
      "LOCAL_RANK: 0 - CUDA_VISIBLE_DEVICES: [0]\n",
      "Loaded model weights from the checkpoint at lightning_logs\\lightning_logs\\version_18\\checkpoints\\epoch=79-step=1280.ckpt\n",
      "C:\\Users\\leosi\\PycharmProjects\\ACDC_AI4Imaging\\.venv\\Lib\\site-packages\\pytorch_lightning\\trainer\\connectors\\data_connector.py:420: Consider setting `persistent_workers=True` in 'predict_dataloader' to speed up the dataloader worker initialization.\n"
     ]
    },
    {
     "data": {
      "text/plain": [
       "Output()"
      ],
      "application/vnd.jupyter.widget-view+json": {
       "version_major": 2,
       "version_minor": 0,
       "model_id": "99300fdc3a9a4330a6ad06b2e302e994"
      }
     },
     "metadata": {},
     "output_type": "display_data"
    }
   ],
   "execution_count": 260
  },
  {
   "metadata": {
    "ExecuteTime": {
     "end_time": "2025-02-08T17:32:29.583179Z",
     "start_time": "2025-02-08T17:32:16.473130Z"
    }
   },
   "cell_type": "code",
   "source": [
    "def plot_occlusion_heatmap(trainer, datamodule, depth_axis=-3, device=torch.device('cuda:0')):\n",
    "    test_batch = next(iter(datamodule.val_dataloader()))\n",
    "    img, label = test_batch['img'][:1], test_batch['label'][:1]\n",
    "    img, label = img.to(device), label.unsqueeze(0).to(device)\n",
    "    # Get the occlusion sensitivity map\n",
    "    occ_sens = monai.visualize.OcclusionSensitivity(nn_module=trainer.model.to(device), mask_size=12, n_batch=10)\n",
    "    # Only get a single slice to save time.\n",
    "    # For the other dimensions (channel, width, height), use\n",
    "    # -1 to use 0 and img.shape[x]-1 for min and max, respectively\n",
    "    depth_slice = img.shape[depth_axis] // 2\n",
    "    print(img.shape, depth_slice)\n",
    "    occ_sens_b_box = [depth_slice - 1, depth_slice, -1, -1, -1, -1]\n",
    "\n",
    "    occ_result, _ = occ_sens(x=img, b_box=occ_sens_b_box)\n",
    "    print(occ_result.shape)\n",
    "    occ_result = occ_result[0, label.argmax().item()][None]\n",
    "\n",
    "    fig, axes = plt.subplots(1, 2, figsize=(25, 15), facecolor=\"white\")\n",
    "\n",
    "    for i, im in enumerate([img[:, :, depth_slice, ...], occ_result]):\n",
    "        cmap = \"gray\" if i == 0 else \"jet\"\n",
    "        ax = axes[i]\n",
    "        im_show = ax.imshow(np.squeeze(im[0][0].detach().cpu()), cmap=cmap)\n",
    "        ax.axis(\"off\")\n",
    "        fig.colorbar(im_show, ax=ax)\n",
    "\n",
    "plot_occlusion_heatmap(trainer, datamodule)"
   ],
   "outputs": [
    {
     "name": "stdout",
     "output_type": "stream",
     "text": [
      "torch.Size([1, 2, 12, 32, 32]) 6\n"
     ]
    },
    {
     "name": "stderr",
     "output_type": "stream",
     "text": [
      "100%|██████████| 2/2 [00:00<00:00, 30.50it/s]"
     ]
    },
    {
     "name": "stdout",
     "output_type": "stream",
     "text": [
      "torch.Size([1, 5, 1, 32, 32])\n"
     ]
    },
    {
     "name": "stderr",
     "output_type": "stream",
     "text": [
      "\n"
     ]
    },
    {
     "data": {
      "text/plain": [
       "<Figure size 2500x1500 with 6 Axes>"
      ],
      "image/png": "[encoded data removed]"
     },
     "metadata": {},
     "output_type": "display_data"
    }
   ],
   "execution_count": 68
  },
  {
   "cell_type": "markdown",
   "metadata": {},
   "source": [
    "## Comparative Analysis\n",
    "\n",
    "[Compare the performance of your model(s) against the baseline model. Discuss any improvements or setbacks and the reasons behind them.]\n"
   ]
  },
  {
   "cell_type": "code",
   "execution_count": null,
   "metadata": {},
   "outputs": [],
   "source": [
    "# Comparative Analysis code (if applicable)\n",
    "# Kaggle results - how close do we get to the feature based approach?\n",
    "print(f\"Baseline Model Accuracy: {0.98}, New Model Accuracy: {0.80}\")"
   ]
  }
 ],
 "metadata": {
  "language_info": {
   "name": "python"
  },
  "kernelspec": {
   "name": "python3",
   "language": "python",
   "display_name": "Python 3 (ipykernel)"
  }
 },
 "nbformat": 4,
 "nbformat_minor": 2
}
