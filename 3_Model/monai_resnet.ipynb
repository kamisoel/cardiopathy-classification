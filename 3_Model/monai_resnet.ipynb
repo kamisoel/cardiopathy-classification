{
 "cells": [
  {
   "cell_type": "markdown",
   "metadata": {},
   "source": [
    "# Model Definition and Evaluation\n",
    "## Table of Contents\n",
    "1. [Model Selection](#model-selection)\n",
    "2. [Feature Engineering](#feature-engineering)\n",
    "3. [Hyperparameter Tuning](#hyperparameter-tuning)\n",
    "4. [Implementation](#implementation)\n",
    "5. [Evaluation Metrics](#evaluation-metrics)\n",
    "6. [Comparative Analysis](#comparative-analysis)\n"
   ]
  },
  {
   "metadata": {
    "ExecuteTime": {
     "end_time": "2025-02-06T12:12:14.418930Z",
     "start_time": "2025-02-06T12:12:13.965419Z"
    }
   },
   "cell_type": "code",
   "source": [
    "%load_ext autoreload\n",
    "%autoreload complete\n",
    "\n",
    "import random\n",
    "from pathlib import Path\n",
    "import rich\n",
    "\n",
    "import torch\n",
    "import torch.nn as nn\n",
    "import torch.nn.functional as F\n",
    "from torch.utils.data import Subset\n",
    "import pytorch_lightning as pl\n",
    "\n",
    "import monai\n",
    "from monai import transforms\n",
    "import custom_transforms\n",
    "from monai.data import Dataset, CacheDataset, DataLoader\n",
    "\n",
    "from torch.optim import AdamW\n",
    "from torch.nn import CrossEntropyLoss\n",
    "from torchmetrics import MetricCollection\n",
    "from torchmetrics.classification import (MulticlassAccuracy, MulticlassPrecision,\n",
    "                                         MulticlassRecall, MulticlassF1Score,\n",
    "                                         MulticlassConfusionMatrix)\n",
    "\n",
    "from sklearn.model_selection import train_test_split\n",
    "\n",
    "import numpy as np\n",
    "import pandas as pd\n",
    "import matplotlib.pyplot as plt\n",
    "import seaborn as sns\n",
    "\n",
    "from data import data_helper\n",
    "from data.data_helper import Phase\n",
    "\n",
    "sns.set_theme()\n",
    "plt.rcParams[\"figure.figsize\"] = 12, 8\n",
    "monai.utils.set_determinism()\n",
    "\n",
    "data_folder = '../data/train/'"
   ],
   "outputs": [
    {
     "name": "stdout",
     "output_type": "stream",
     "text": [
      "The autoreload extension is already loaded. To reload it, use:\n",
      "  %reload_ext autoreload\n"
     ]
    }
   ],
   "execution_count": 11
  },
  {
   "metadata": {},
   "cell_type": "markdown",
   "source": [
    "## Model Selection\n",
    "\n",
    "[Discuss the type(s) of models you consider for this task, and justify the selection.]\n",
    "\n"
   ]
  },
  {
   "cell_type": "markdown",
   "metadata": {},
   "source": [
    "## Feature Engineering\n",
    "\n",
    "[Describe any additional feature engineering you've performed beyond what was done for the baseline model.]\n"
   ]
  },
  {
   "metadata": {
    "ExecuteTime": {
     "end_time": "2025-02-06T12:12:16.581172Z",
     "start_time": "2025-02-06T12:12:16.306965Z"
    }
   },
   "cell_type": "code",
   "source": [
    "train_data = pd.DataFrame(data_helper.load_all_patients(data_folder, return_df=True)).reset_index()\n",
    "mask_labels = ['RV', 'MC', 'LV']\n",
    "class_labels = ['NOR', 'MINF', 'DCM', 'HCM', 'RV']\n",
    "\n",
    "clabel2id_map = {value:key for key, value in enumerate(class_labels)}\n",
    "train_data['label_id'] = train_data['label'].map(clabel2id_map)\n",
    "train_data = train_data.to_dict('records')"
   ],
   "outputs": [],
   "execution_count": 12
  },
  {
   "metadata": {
    "ExecuteTime": {
     "end_time": "2025-02-05T22:08:28.328238Z",
     "start_time": "2025-02-05T22:08:28.100183Z"
    }
   },
   "cell_type": "code",
   "source": "train_data[:1]",
   "outputs": [
    {
     "data": {
      "text/plain": [
       "[{'id': 'p0001',\n",
       "  'label': 'NOR',\n",
       "  'sys': WindowsPath('../data/train/p0001/p0001_frame01.nii.gz'),\n",
       "  'sys_seg': WindowsPath('../data/train/p0001/p0001_frame01_gt.nii.gz'),\n",
       "  'dia': WindowsPath('../data/train/p0001/p0001_frame06.nii.gz'),\n",
       "  'dia_seg': WindowsPath('../data/train/p0001/p0001_frame06_gt.nii.gz'),\n",
       "  'label_id': 0}]"
      ]
     },
     "execution_count": 32,
     "metadata": {},
     "output_type": "execute_result"
    }
   ],
   "execution_count": 32
  },
  {
   "metadata": {
    "ExecuteTime": {
     "end_time": "2025-02-06T14:32:36.773343Z",
     "start_time": "2025-02-06T14:32:36.272217Z"
    }
   },
   "cell_type": "code",
   "source": [
    "trfm = transforms.Compose([\n",
    "    transforms.LoadImaged(['sys', 'sys_seg', 'dia', 'dia_seg'],\n",
    "                          image_only=False, ensure_channel_first=True),\n",
    "    # concat the two input images / seg masks as channels\n",
    "    transforms.ConcatItemsd(['sys', 'dia'], name='img', dim=0),\n",
    "    transforms.ConcatItemsd(['sys_seg', 'dia_seg'], name='seg', dim=0),\n",
    "    transforms.DeleteItemsd(['sys', 'dia', 'sys_seg', 'dia_seg']),\n",
    "    # normalize the orientation in space\n",
    "    transforms.Orientationd(['img','seg'], 'SPL'),\n",
    "    custom_transforms.EllipseFitRotated(['img','seg'], mask_key='seg', depth_axis=0, rot90_only=True),\n",
    "    # crop the images to the bounding box given by the seg mask\n",
    "    transforms.CropForegroundd([\"img\", \"seg\"], source_key=\"seg\",\n",
    "                                     select_fn=lambda x: x > 0, allow_smaller=False),\n",
    "    # normalize intensity between images and scale to [0,1]\n",
    "    custom_transforms.AdaptiveHistogramNormalized(['img'], clip_limit=.01),\n",
    "    #transforms.HistogramNormalized(['img'], mask_key='seg'),\n",
    "    # use the segmentations to mask the images - this will result in 1 channel per label\n",
    "    #custom_transforms.MultiMaskIntensityd(keys=['img'], mask_key='seg', select_labels=[1,2,3]),\n",
    "    # alternative just mask out the background\n",
    "    #transforms.MaskIntensityd(keys=['img'], mask_key='seg'),\n",
    "    transforms.SelectItemsD(['img', 'seg', 'label', 'label_id', 'id']),# 'seg']),\n",
    "    transforms.Spacingd(['img', 'seg'], pixdim=(5, 1.5, 1.5)),\n",
    "    #transforms.Resized(['img'], spatial_size=(16, 64, 64)),\n",
    "    # transforms.ResizeWithPadOrCropd(['img', 'seg'], spatial_size=(20, 100, 100), allow_missing_keys=True),\n",
    "    #transforms.RandRotate90d(['img', 'seg'], spatial_axes=(1,2)),\n",
    "])\n",
    "\n",
    "#data = random.choice(train_data)\n",
    "data = train_data[1]\n",
    "data_trans = trfm(data)\n",
    "#data = trfm(train_data[0])\n",
    "print(list(data_trans.keys()))\n",
    "print(f\"Subject: {data_trans['id']}\")\n",
    "# print(f\"True label: {data_trans['label_id']} ({data_trans['label']})\")\n",
    "print(\"Shape:\", data_trans['img'].shape)\n",
    "n = data_trans['img'].shape[1]\n",
    "monai.visualize.matshow3d(data_trans['img'][:, n//2])\n",
    "#monai.visualize.matshow3d(data_trans['seg'][:, n//2]);\n",
    "plt.show()\n",
    "# TODO: is there a missing mask in dia frame 0?"
   ],
   "outputs": [
    {
     "name": "stdout",
     "output_type": "stream",
     "text": [
      "['img', 'seg', 'label', 'label_id', 'id']\n",
      "Subject: p0002\n",
      "Shape: torch.Size([2, 16, 65, 72])\n"
     ]
    },
    {
     "data": {
      "text/plain": [
       "<Figure size 1000x1000 with 1 Axes>"
      ],
      "image/png": "[encoded data removed]"
     },
     "metadata": {},
     "output_type": "display_data"
    }
   ],
   "execution_count": 160
  },
  {
   "metadata": {
    "ExecuteTime": {
     "end_time": "2025-02-06T10:58:09.893736Z",
     "start_time": "2025-02-06T10:57:53.623162Z"
    }
   },
   "cell_type": "code",
   "source": [
    "train_ds = Dataset(train_data, transform=trfm)\n",
    "shapes = [d['img'].shape for d in train_ds]\n",
    "np.stack(shapes).max(axis=0)"
   ],
   "outputs": [
    {
     "data": {
      "text/plain": [
       "array([  2,  20, 137, 151])"
      ]
     },
     "execution_count": 9,
     "metadata": {},
     "output_type": "execute_result"
    }
   ],
   "execution_count": 9
  },
  {
   "metadata": {
    "ExecuteTime": {
     "end_time": "2025-02-05T16:36:24.170564Z",
     "start_time": "2025-02-05T16:36:23.962930Z"
    }
   },
   "cell_type": "code",
   "source": [
    "import scipy\n",
    "def ellipse_ams(x, y):\n",
    "    # Step 1: Create the design matrix D and its derivatives Dx and Dy\n",
    "    n = len(x)\n",
    "    D = np.column_stack((x**2, x*y, y**2, x, y, np.ones(n)))\n",
    "    Dx = np.column_stack((2*x, y, np.zeros(n), np.ones(n), np.zeros(n), np.zeros(n)))\n",
    "    Dy = np.column_stack((np.zeros(n), x, 2*y, np.zeros(n), np.ones(n), np.zeros(n)))\n",
    "\n",
    "    # Step 2: Compute D^T * D, Dx^T * Dx, Dy^T * Dy\n",
    "    M = D.T @ D\n",
    "    N = Dx.T @ Dx + Dy.T @ Dy\n",
    "\n",
    "    # Step 3: Solve the generalized eigenvalue problem\n",
    "    # M * A = lambda * N * A\n",
    "\n",
    "    # Regularization of N\n",
    "    epsilon = 1e-6\n",
    "    N += epsilon * np.eye(N.shape[0])\n",
    "    # Solve the generalized eigenvalue problem\n",
    "    eigenvalues, eigenvectors = scipy.linalg.eigh(M, N)\n",
    "\n",
    "    # Extract the eigenvector corresponding to the smallest eigenvalue\n",
    "    min_eigenvalue_index = np.argmin(eigenvalues.real)\n",
    "    A = eigenvectors[:, min_eigenvalue_index]\n",
    "    return A  # Returns the coefficients [A_xx, A_xy, A_yy, A_x, A_y, A_0]\n",
    "\n",
    "def extract_rotation(A):\n",
    "    # Extract the coefficients\n",
    "    A_xx, A_xy, A_yy, _, _, _ = A\n",
    "    # Compute the rotation angle theta\n",
    "    theta = 0.5 * np.arctan2(A_xy, A_xx - A_yy)\n",
    "    return theta"
   ],
   "outputs": [
    {
     "data": {
      "text/plain": [
       "(-0.7876387194249113, 0.7853981633974483)"
      ]
     },
     "execution_count": 110,
     "metadata": {},
     "output_type": "execute_result"
    }
   ],
   "execution_count": 110
  },
  {
   "metadata": {
    "ExecuteTime": {
     "end_time": "2025-02-06T19:59:17.305181Z",
     "start_time": "2025-02-06T19:59:17.031952Z"
    }
   },
   "cell_type": "code",
   "source": [
    "class MRIDataModule(pl.LightningDataModule):\n",
    "    def __init__(self, data_folder, batch_size, train_val_ratio=0.8, use_cache=True,\n",
    "                 orient='SPL', crop_foreground=True, register_heart_axis=False,\n",
    "                 intensity_norm='adaptive', mask_intensity=None, clip_percentiles=(0.5,99.5),\n",
    "                 spacing=(5,2,2), use_pad=False, spatial_size=None, augmentations=None, concat_dim=0):\n",
    "        super().__init__()\n",
    "        self.batch_size = batch_size\n",
    "        self.data_folder = Path(data_folder)\n",
    "        self.train_val_ratio = train_val_ratio\n",
    "        self.use_cache = use_cache\n",
    "        self.orient = orient\n",
    "        self.crop_foreground = crop_foreground\n",
    "        self.register_heart_axis = register_heart_axis\n",
    "        self.intensity_norm = intensity_norm\n",
    "        self.mask_intensity = mask_intensity\n",
    "        self.clip_percentiles = clip_percentiles\n",
    "        self.spacing = spacing\n",
    "        self.use_pad = use_pad\n",
    "        self.spatial_size = (spatial_size if spatial_size is not None\n",
    "                             else self._recommended_spatial_size())\n",
    "        self.concat_dim = concat_dim\n",
    "\n",
    "        self.labels = ['NOR', 'MINF', 'DCM', 'HCM', 'RV']\n",
    "        self.n_classes = len(self.labels)\n",
    "\n",
    "        self.save_hyperparameters()\n",
    "\n",
    "        # basic loading transforms\n",
    "        transform = [\n",
    "            transforms.ToTensord(['label'], allow_missing_keys=True),\n",
    "            ## load the 3D-Tensors with their corresponding segmentations masks from nii.gz format\n",
    "            transforms.LoadImaged(keys=['sys', 'sys_seg', 'dia', 'dia_seg'], ensure_channel_first=True),\n",
    "            ## concat the two input images / seg masks as channels\n",
    "            transforms.ConcatItemsd(keys=['sys', 'dia'], name='img', dim=concat_dim),\n",
    "            transforms.ConcatItemsd(keys=['sys_seg', 'dia_seg'], name='seg', dim=concat_dim),\n",
    "            transforms.DeleteItemsd(['sys', 'dia', 'sys_seg', 'dia_seg']),\n",
    "            ## normalize the orientation in space\n",
    "            transforms.Orientationd(keys=['img','seg'], axcodes='SPL'),\n",
    "            ## some images are rotated and have wrong metadata --> complicated fix\n",
    "            custom_transforms.EllipseFitRotated(['img','seg'], mask_key='seg', depth_axis=0,\n",
    "                                                rot90_only=(not register_heart_axis)),\n",
    "        ]\n",
    "\n",
    "        if clip_percentiles is not None and len(clip_percentiles) == 2:\n",
    "            ## perform soft clipping of the given low and high percentile\n",
    "            transform.append(transforms.ClipIntensityPercentilesd(['img'], *clip_percentiles, sharpness_factor=5))\n",
    "\n",
    "        ## normalize intensity between images and scale to [0,1]\n",
    "        if intensity_norm == 'linear':\n",
    "            # linearly scale to [0,1] - clipping via clip_percentile is recommended\n",
    "            transform.append(transforms.ScaleIntensityd(['img'], channel_wise=True))\n",
    "        if intensity_norm == 'znorm':\n",
    "            # linearly scale to [0,1] - clipping via clip_percentile is recommended\n",
    "            transform.append(transforms.NormalizeIntensity(['img'], channel_wise=True))\n",
    "        elif intensity_norm == 'histogram':\n",
    "            # use Histogram Normalization for scaling - clipping via clip_percentile is recommended\n",
    "            transform.append(transforms.HistogramNormalized(['img'], min=0, max=1))\n",
    "        elif intensity_norm == 'adaptive':\n",
    "            # use sklearn's Adaptive Histogram Normalization (CLAHE) - clipping is not necessary\n",
    "            transform.append(custom_transforms.AdaptiveHistogramNormalized(['img']))\n",
    "\n",
    "        if crop_foreground:\n",
    "            ## crop the images to the bounding box given by the seg mask\n",
    "            transform.append(transforms.CropForegroundd(keys=['img', 'seg'], source_key='seg', allow_smaller=False),)\n",
    "\n",
    "        if mask_intensity == 'single':\n",
    "            self.n_channels = 2\n",
    "            transform.append(transforms.MaskIntensityd(['img'], mask_key='seg'))\n",
    "        elif mask_intensity == 'multi':\n",
    "            self.n_channels = 6\n",
    "            transform.append(custom_transforms.MultiMaskIntensityd(['img'], mask_key='seg', select_labels=[1,2,3]),)\n",
    "        else:\n",
    "            self.n_channels = 2\n",
    "\n",
    "        # normalize spacing / zoom\n",
    "        transform.append(transforms.Spacingd(['img'], pixdim=spacing))\n",
    "        # scale by padding or resizing\n",
    "        if use_pad:\n",
    "            transform.append(transforms.ResizeWithPadOrCropd(['img'], spatial_size=self.spatial_size, allow_missing_keys=True))\n",
    "        else:\n",
    "            transform.append(transforms.Resized(['img'], spatial_size=self.spatial_size))\n",
    "        # delete unnecessary items\n",
    "        transform.append(transforms.SelectItemsd(['label', 'img'], allow_missing_keys=True))\n",
    "\n",
    "        self.transform = transforms.Compose(transform)\n",
    "\n",
    "        self.train_transform = (transforms.Compose([*transform, augmentations])\n",
    "                                if augmentations is not None else self.transform)\n",
    "        self.train_set = None\n",
    "        self.val_set = None\n",
    "        self.test_set = None\n",
    "\n",
    "\n",
    "    def _recommended_spatial_size(self):\n",
    "        _scaling_factor = np.array([5,1,1]) / np.array(self.spacing)\n",
    "        spatial_size = None\n",
    "        if self.crop_foreground:\n",
    "            spatial_size = np.array([22, 140, 150]) * _scaling_factor\n",
    "        else:\n",
    "            spatial_size = np.array([22, 500, 430])  * _scaling_factor\n",
    "        return spatial_size\n",
    "\n",
    "\n",
    "    def _get_data(self, data_dir):\n",
    "        data = data_helper.load_all_patients(data_dir, return_df=True)\n",
    "        if 'label' in data.columns:\n",
    "            data['label'] = data['label'].map(self.labels.index)\n",
    "        return data.to_dict('records')\n",
    "\n",
    "\n",
    "    def _create_dataset(self, data, transform):\n",
    "        if self.use_cache:\n",
    "            return CacheDataset(\n",
    "                data=data,\n",
    "                transform=transform,\n",
    "                cache_rate=1.0,\n",
    "                num_workers=2,\n",
    "                progress=False,\n",
    "            )\n",
    "        else:\n",
    "            return Dataset(\n",
    "                data=data,\n",
    "                transform=transform,\n",
    "            )\n",
    "\n",
    "\n",
    "    def setup(self, stage=None):\n",
    "        if stage == \"fit\" and self.train_set is None:\n",
    "            train_dir = self.data_folder / 'train'\n",
    "            train_data = self._get_data(train_dir)\n",
    "            train_targets = [data['label'] for data in train_data]\n",
    "            #train_idx, val_idx = train_test_split(range(len(train_targets)), train_size=0.8, stratify=train_targets)\n",
    "            train_set, val_set = train_test_split(train_data, train_size=0.8, stratify=train_targets)\n",
    "            self.train_set = self._create_dataset(train_set, self.train_transform)\n",
    "            self.val_set = self._create_dataset(val_set, self.transform)\n",
    "        if stage == \"predict\" and self.test_set is None:\n",
    "            test_dir = self.data_folder / 'test'\n",
    "            test_data = self._get_data(test_dir)\n",
    "            self.test_set = self._create_dataset(test_data, self.transform)\n",
    "\n",
    "    def train_dataloader(self):\n",
    "        return DataLoader(\n",
    "            self.train_set,\n",
    "            #collate_fn = list_data_collate,\n",
    "            batch_size = self.batch_size,\n",
    "            shuffle = True,\n",
    "            num_workers = 2,\n",
    "            persistent_workers=True,\n",
    "        )\n",
    "\n",
    "    def val_dataloader(self):\n",
    "        return DataLoader(\n",
    "            self.val_set,\n",
    "            #collate_fn = list_data_collate,\n",
    "            batch_size = len(self.val_set), # 1\n",
    "            num_workers = 2,\n",
    "            persistent_workers=True,\n",
    "        )\n",
    "\n",
    "    def predict_dataloader(self):\n",
    "        return DataLoader(\n",
    "            self.test_set,\n",
    "            #collate_fn = list_data_collate,\n",
    "            batch_size = 1,\n",
    "            num_workers = 2,\n",
    "        )"
   ],
   "outputs": [],
   "execution_count": 258
  },
  {
   "metadata": {
    "ExecuteTime": {
     "end_time": "2025-02-06T17:28:56.113308Z",
     "start_time": "2025-02-06T17:28:55.849441Z"
    }
   },
   "cell_type": "code",
   "source": [
    "class MRI_Model(pl.LightningModule):\n",
    "    def __init__(self, net, class_labels, criterion=CrossEntropyLoss,\n",
    "                 learning_rate=3e-4, weight_decay=0.01, optimizer_class=AdamW,\n",
    "                 log_confusion_matrix=True):\n",
    "        super().__init__()\n",
    "        self.lr = learning_rate\n",
    "        self.wd = weight_decay\n",
    "        self.net = net\n",
    "        self.criterion = criterion()\n",
    "        self.optimizer_class = optimizer_class\n",
    "        self.class_labels = class_labels\n",
    "        self.num_classes = len(self.class_labels)\n",
    "\n",
    "        self.save_hyperparameters(ignore=['net'])\n",
    "\n",
    "        metrics = MetricCollection({\n",
    "            'F1_score': MulticlassF1Score(num_classes=self.num_classes, average='weighted'),\n",
    "            'Accuracy': MulticlassAccuracy(num_classes=self.num_classes, average='macro'),\n",
    "            'Precision': MulticlassPrecision(num_classes=self.num_classes, average='macro'),\n",
    "            'Recall': MulticlassRecall(num_classes=self.num_classes, average='macro')\n",
    "        })\n",
    "        self.train_metrics = metrics.clone(postfix='/Train')\n",
    "        self.valid_metrics = metrics.clone(postfix='/Val')\n",
    "        self.log_confusion_matrix = log_confusion_matrix\n",
    "        if log_confusion_matrix:\n",
    "            self.conf_mat = MulticlassConfusionMatrix(self.num_classes)\n",
    "\n",
    "    def configure_optimizers(self):\n",
    "        optimizer = self.optimizer_class(self.parameters(), lr=self.lr, weight_decay=self.wd)\n",
    "        scheduler = torch.optim.lr_scheduler.ReduceLROnPlateau(optimizer, mode='min', factor=0.5, patience=5)\n",
    "        #scheduler = torch.optim.lr_scheduler.CosineAnnealingLR(optimizer, T_max=self.trainer.max_epochs)\n",
    "        return ([optimizer],\n",
    "                [{\"scheduler\": scheduler,\n",
    "                \"monitor\": \"Loss/val\",\n",
    "                \"interval\": \"epoch\", # \"epoch\" # \"step\"\n",
    "                \"frequency\": 10,\n",
    "                }])\n",
    "\n",
    "    def forward(self, x):\n",
    "        return self.net(x)\n",
    "\n",
    "    def _step(self, stage, batch, batch_idx):\n",
    "        X, y = batch['img'], batch['label']\n",
    "        y_hat = self(X)\n",
    "        loss = self.criterion(y_hat, y)\n",
    "        self.log(f\"Loss/{stage}\", loss, on_epoch=True, prog_bar=True)\n",
    "        return loss, y_hat, y\n",
    "\n",
    "    def training_step(self, batch, batch_idx):\n",
    "        loss, y_hat, y = self._step('train', batch, batch_idx)\n",
    "        ## log metrics\n",
    "        self.log_dict(self.train_metrics(y_hat, y), on_step=False, on_epoch=True)\n",
    "        return loss\n",
    "\n",
    "    def validation_step(self, batch, batch_idx):\n",
    "        loss, y_hat, y = self._step('val', batch, batch_idx)\n",
    "        ## log metrics\n",
    "        metrics = self.valid_metrics(y_hat, y)\n",
    "        self.log_dict(metrics)\n",
    "        self.log(\"hp_metric\", metrics['F1_score/Val'], prog_bar=True)\n",
    "\n",
    "        if self.log_confusion_matrix:\n",
    "            self.conf_mat.update(y_hat, y)\n",
    "        return loss # {\"loss\": loss, \"y_hat\": y_hat, \"y_true\": y}\n",
    "\n",
    "    def predict_step(self, batch, batch_idx):\n",
    "        X = batch['img']\n",
    "        return self(X)\n",
    "\n",
    "    def on_validation_epoch_end(self):\n",
    "        if self.log_confusion_matrix:\n",
    "            ## log confusion matrix\n",
    "            self._log_confusion_matrix()\n",
    "            self.conf_mat.reset()\n",
    "\n",
    "    def _log_confusion_matrix(self):\n",
    "      self.conf_mat.compute()\n",
    "      fig, ax = self.conf_mat.plot(labels=self.class_labels)\n",
    "      self.logger.experiment.add_figure (\n",
    "          \"confusion_matrix\", fig,\n",
    "          global_step=self.current_epoch,\n",
    "      )"
   ],
   "outputs": [],
   "execution_count": 228
  },
  {
   "metadata": {
    "ExecuteTime": {
     "end_time": "2025-02-06T20:00:01.926034Z",
     "start_time": "2025-02-06T19:59:20.058Z"
    }
   },
   "cell_type": "code",
   "source": [
    "datamodule = MRIDataModule(\n",
    "    '../data',\n",
    "    batch_size=5,\n",
    "    train_val_ratio=0.8,\n",
    "    concat_dim = 0,\n",
    "    use_cache=True,\n",
    "    mask_intensity='multi',\n",
    "    spatial_size=(12, 32, 32),\n",
    "    #augmentations = transforms.Compose([transforms.RandRotate90d(['img'], spatial_axes=(1,2))])\n",
    ")\n",
    "datamodule.setup('fit');"
   ],
   "outputs": [],
   "execution_count": 259
  },
  {
   "metadata": {
    "ExecuteTime": {
     "end_time": "2025-02-06T15:23:06.361731Z",
     "start_time": "2025-02-06T15:22:54.019044Z"
    }
   },
   "cell_type": "code",
   "source": [
    "for data in datamodule.train_dataloader():\n",
    "\n",
    "    print(list(data.keys()))\n",
    "    # print(f\"True label: {data_trans['label_id']} ({data_trans['label']})\")\n",
    "    print(\"Shape:\", data['img'].shape)\n",
    "    n = data['img'].shape[1]\n",
    "    #monai.visualize.matshow3d(data['img'][:, n//2])\n",
    "    break"
   ],
   "outputs": [
    {
     "name": "stdout",
     "output_type": "stream",
     "text": [
      "['label', 'img']\n",
      "Shape: torch.Size([10, 2, 22, 70, 75])\n"
     ]
    }
   ],
   "execution_count": 204
  },
  {
   "metadata": {
    "ExecuteTime": {
     "end_time": "2025-02-06T19:50:02.529529Z",
     "start_time": "2025-02-06T19:45:39.340955Z"
    }
   },
   "cell_type": "code",
   "source": [
    "LR = 3e-4\n",
    "\n",
    "#net = monai.networks.nets.DenseNet121(spatial_dims=3, in_channels=1, out_channels=5, pretrained=True)\n",
    "net = monai.networks.nets.resnet18(n_input_channels=datamodule.n_channels, num_classes=5)\n",
    "#net = monai.networks.nets.EfficientNetBN(\"efficientnet-b0\", spatial_dims=3, in_channels=2, num_classes=5)\n",
    "#net = PretrainedResNet('resnet18', num_classes=5, in_channels=2)\n",
    "#net = PretrainedResNet('resnet18', num_classes=5, in_channels=2, freeze_backbone=False, hidden_size=64)\n",
    "\n",
    "model = MRI_Model(\n",
    "    net=net,\n",
    "    class_labels=datamodule.labels,\n",
    "    learning_rate=LR,\n",
    "    weight_decay=0.05, # regularization to prevent overfitting\n",
    "    log_confusion_matrix=False,\n",
    ")\n",
    "# early_stopping = pl.callbacks.early_stopping.EarlyStopping(\n",
    "#     monitor=\"Loss/val\",\n",
    "#     patience=15,\n",
    "#     mode=\"min\",\n",
    "#     verbose=True,\n",
    "# )\n",
    "trainer = pl.Trainer(\n",
    "    devices='auto',\n",
    "    #precision=\"16-mixed\",\n",
    "    max_epochs=80,\n",
    "    accumulate_grad_batches=1,\n",
    "    gradient_clip_val=1.0,\n",
    "    callbacks=[#pl.callbacks.early_stopping.EarlyStopping(monitor=\"Loss/train\", patience=10),\n",
    "                pl.callbacks.RichProgressBar(),\n",
    "                pl.callbacks.LearningRateMonitor(),],\n",
    "    #           pl.callbacks.StochasticWeightAveraging(swa_lrs=LR)\n",
    "    #           ],\n",
    "    logger=pl.loggers.TensorBoardLogger(save_dir=\"lightning_logs\"),\n",
    "    log_every_n_steps=1,\n",
    ")\n",
    "#trainer.logger._default_hp_metric = False\n",
    "\n",
    "trainer.fit(model, datamodule=datamodule)"
   ],
   "outputs": [
    {
     "name": "stderr",
     "output_type": "stream",
     "text": [
      "GPU available: True (cuda), used: True\n",
      "TPU available: False, using: 0 TPU cores\n",
      "HPU available: False, using: 0 HPUs\n",
      "LOCAL_RANK: 0 - CUDA_VISIBLE_DEVICES: [0]\n"
     ]
    },
    {
     "data": {
      "text/plain": [
       "┏━━━┳━━━━━━━━━━━━━━━┳━━━━━━━━━━━━━━━━━━┳━━━━━━━━┳━━━━━━━┓\n",
       "┃\u001B[1;35m \u001B[0m\u001B[1;35m \u001B[0m\u001B[1;35m \u001B[0m┃\u001B[1;35m \u001B[0m\u001B[1;35mName         \u001B[0m\u001B[1;35m \u001B[0m┃\u001B[1;35m \u001B[0m\u001B[1;35mType            \u001B[0m\u001B[1;35m \u001B[0m┃\u001B[1;35m \u001B[0m\u001B[1;35mParams\u001B[0m\u001B[1;35m \u001B[0m┃\u001B[1;35m \u001B[0m\u001B[1;35mMode \u001B[0m\u001B[1;35m \u001B[0m┃\n",
       "┡━━━╇━━━━━━━━━━━━━━━╇━━━━━━━━━━━━━━━━━━╇━━━━━━━━╇━━━━━━━┩\n",
       "│\u001B[2m \u001B[0m\u001B[2m0\u001B[0m\u001B[2m \u001B[0m│ net           │ ResNet           │ 33.3 M │ train │\n",
       "│\u001B[2m \u001B[0m\u001B[2m1\u001B[0m\u001B[2m \u001B[0m│ criterion     │ CrossEntropyLoss │      0 │ train │\n",
       "│\u001B[2m \u001B[0m\u001B[2m2\u001B[0m\u001B[2m \u001B[0m│ train_metrics │ MetricCollection │      0 │ train │\n",
       "│\u001B[2m \u001B[0m\u001B[2m3\u001B[0m\u001B[2m \u001B[0m│ valid_metrics │ MetricCollection │      0 │ train │\n",
       "└───┴───────────────┴──────────────────┴────────┴───────┘\n"
      ],
      "text/html": [
       "<pre style=\"white-space:pre;overflow-x:auto;line-height:normal;font-family:Menlo,'DejaVu Sans Mono',consolas,'Courier New',monospace\">┏━━━┳━━━━━━━━━━━━━━━┳━━━━━━━━━━━━━━━━━━┳━━━━━━━━┳━━━━━━━┓\n",
       "┃<span style=\"color: #800080; text-decoration-color: #800080; font-weight: bold\">   </span>┃<span style=\"color: #800080; text-decoration-color: #800080; font-weight: bold\"> Name          </span>┃<span style=\"color: #800080; text-decoration-color: #800080; font-weight: bold\"> Type             </span>┃<span style=\"color: #800080; text-decoration-color: #800080; font-weight: bold\"> Params </span>┃<span style=\"color: #800080; text-decoration-color: #800080; font-weight: bold\"> Mode  </span>┃\n",
       "┡━━━╇━━━━━━━━━━━━━━━╇━━━━━━━━━━━━━━━━━━╇━━━━━━━━╇━━━━━━━┩\n",
       "│<span style=\"color: #7f7f7f; text-decoration-color: #7f7f7f\"> 0 </span>│ net           │ ResNet           │ 33.3 M │ train │\n",
       "│<span style=\"color: #7f7f7f; text-decoration-color: #7f7f7f\"> 1 </span>│ criterion     │ CrossEntropyLoss │      0 │ train │\n",
       "│<span style=\"color: #7f7f7f; text-decoration-color: #7f7f7f\"> 2 </span>│ train_metrics │ MetricCollection │      0 │ train │\n",
       "│<span style=\"color: #7f7f7f; text-decoration-color: #7f7f7f\"> 3 </span>│ valid_metrics │ MetricCollection │      0 │ train │\n",
       "└───┴───────────────┴──────────────────┴────────┴───────┘\n",
       "</pre>\n"
      ]
     },
     "metadata": {},
     "output_type": "display_data"
    },
    {
     "data": {
      "text/plain": [
       "\u001B[1mTrainable params\u001B[0m: 33.3 M                                                                     \n",
       "\u001B[1mNon-trainable params\u001B[0m: 0                                                                      \n",
       "\u001B[1mTotal params\u001B[0m: 33.3 M                                                                         \n",
       "\u001B[1mTotal estimated model params size (MB)\u001B[0m: 133                                                  \n",
       "\u001B[1mModules in train mode\u001B[0m: 79                                                                    \n",
       "\u001B[1mModules in eval mode\u001B[0m: 0                                                                      \n"
      ],
      "text/html": [
       "<pre style=\"white-space:pre;overflow-x:auto;line-height:normal;font-family:Menlo,'DejaVu Sans Mono',consolas,'Courier New',monospace\"><span style=\"font-weight: bold\">Trainable params</span>: 33.3 M                                                                     \n",
       "<span style=\"font-weight: bold\">Non-trainable params</span>: 0                                                                      \n",
       "<span style=\"font-weight: bold\">Total params</span>: 33.3 M                                                                         \n",
       "<span style=\"font-weight: bold\">Total estimated model params size (MB)</span>: 133                                                  \n",
       "<span style=\"font-weight: bold\">Modules in train mode</span>: 79                                                                    \n",
       "<span style=\"font-weight: bold\">Modules in eval mode</span>: 0                                                                      \n",
       "</pre>\n"
      ]
     },
     "metadata": {},
     "output_type": "display_data"
    },
    {
     "data": {
      "text/plain": [
       "Output()"
      ],
      "application/vnd.jupyter.widget-view+json": {
       "version_major": 2,
       "version_minor": 0,
       "model_id": "2fe60489f87e442790983e0c94bb1a0b"
      }
     },
     "metadata": {},
     "output_type": "display_data"
    },
    {
     "name": "stderr",
     "output_type": "stream",
     "text": [
      "`Trainer.fit` stopped: `max_epochs=80` reached.\n"
     ]
    }
   ],
   "execution_count": 242
  },
  {
   "metadata": {},
   "cell_type": "code",
   "outputs": [],
   "execution_count": null,
   "source": [
    "import optuna\n",
    "\n",
    "def objective(trial: optuna.trial.Trial) -> float:\n",
    "    # We optimize ??\n",
    "    crop_foreground = trial.suggest_categorical(\"crop_foreground\", [True, False])\n",
    "    intensity_norm = trial.suggest_categorical(\"intensity_norm\", ['linear', 'histogram', 'adaptive'])\n",
    "    mask_intensity = trial.suggest_categorical(\"mask_intensity\", [None, 'single', 'multi'])\n",
    "    spacing_s = trial.suggest_categorical(\"spacing_s\", [5., 10.])\n",
    "    spacing_pl = trial.suggest_float(\"spacing_pl\", 1, 3, step=0.5)\n",
    "    use_pad = trial.suggest_categorical(\"use_pad\", [True, False])\n",
    "    batch_size = trial.suggest_categorical(\"batch_size\", [5, 10, 15])\n",
    "\n",
    "    datamodule = MRIDataModule(\n",
    "        '../data',\n",
    "        batch_size=10,\n",
    "        train_val_ratio=0.8,\n",
    "        concat_dim = 0,\n",
    "        use_cache=True,\n",
    "        crop_foreground = crop_foreground,\n",
    "        intensity_norm = intensity_norm,\n",
    "        mask_intensity = mask_intensity,\n",
    "        spacing=(spacing_s, spacing_pl, spacing_pl),\n",
    "        use_pad = use_pad,\n",
    "        #augmentations = transforms.Compose([transforms.RandRotate90d(['img'], spatial_axes=(1,2))])\n",
    "    )\n",
    "\n",
    "    model = MRI_Model(\n",
    "        net=net,\n",
    "        class_labels=datamodule.labels,\n",
    "        learning_rate=LR,\n",
    "        weight_decay=0.02, # regularization to prevent overfitting\n",
    "    )\n",
    "\n",
    "    trainer = pl.Trainer(\n",
    "        devices='auto',\n",
    "        precision=\"16-mixed\",\n",
    "        max_epochs=50,\n",
    "        accumulate_grad_batches=1,\n",
    "        gradient_clip_val=1.0,\n",
    "        callbacks=[#early_stopping,\n",
    "                    pl.callbacks.RichProgressBar(),\n",
    "                    pl.callbacks.LearningRateMonitor(),\n",
    "        ],\n",
    "        logger=pl.loggers.TensorBoardLogger(save_dir=\"lightning_logs\"),\n",
    "        log_every_n_steps=1,\n",
    "    )\n",
    "    trainer.fit(model, datamodule=datamodule)\n",
    "\n",
    "    return trainer.callback_metrics[\"F1_score/val\"].item()\n"
   ]
  },
  {
   "metadata": {
    "ExecuteTime": {
     "end_time": "2025-02-06T16:09:47.966182Z",
     "start_time": "2025-02-06T16:09:47.687098Z"
    }
   },
   "cell_type": "code",
   "source": [
    "%load_ext tensorboard\n",
    "%tensorboard --logdir lightning_logs/"
   ],
   "outputs": [
    {
     "name": "stdout",
     "output_type": "stream",
     "text": [
      "The tensorboard extension is already loaded. To reload it, use:\n",
      "  %reload_ext tensorboard\n"
     ]
    },
    {
     "data": {
      "text/plain": [
       "Reusing TensorBoard on port 6006 (pid 7728), started 0:40:31 ago. (Use '!kill 7728' to kill it.)"
      ]
     },
     "metadata": {},
     "output_type": "display_data"
    },
    {
     "data": {
      "text/plain": [
       "<IPython.core.display.HTML object>"
      ],
      "text/html": [
       "\n",
       "      <iframe id=\"tensorboard-frame-3720bfa93404e941\" width=\"100%\" height=\"800\" frameborder=\"0\">\n",
       "      </iframe>\n",
       "      <script>\n",
       "        (function() {\n",
       "          const frame = document.getElementById(\"tensorboard-frame-3720bfa93404e941\");\n",
       "          const url = new URL(\"/\", window.location);\n",
       "          const port = 6006;\n",
       "          if (port) {\n",
       "            url.port = port;\n",
       "          }\n",
       "          frame.src = url;\n",
       "        })();\n",
       "      </script>\n",
       "    "
      ]
     },
     "metadata": {},
     "output_type": "display_data"
    }
   ],
   "execution_count": 217
  },
  {
   "metadata": {},
   "cell_type": "markdown",
   "source": [
    "## Hyperparameter Tuning\n",
    "\n",
    "[Discuss any hyperparameter tuning methods you've applied, such as Grid Search or Random Search, and the rationale behind them.]\n"
   ]
  },
  {
   "metadata": {},
   "cell_type": "code",
   "outputs": [],
   "execution_count": null,
   "source": [
    "# Implement hyperparameter tuning\n",
    "# Example using GridSearchCV with a DecisionTreeClassifier\n",
    "# param_grid = {'max_depth': [2, 4, 6, 8]}\n",
    "# grid_search = GridSearchCV(DecisionTreeClassifier(), param_grid, cv=5)\n",
    "# grid_search.fit(X_train, y_train)\n"
   ]
  },
  {
   "metadata": {},
   "cell_type": "markdown",
   "source": [
    "## Implementation\n",
    "\n",
    "[Implement the final model(s) you've selected based on the above steps.]\n"
   ]
  },
  {
   "cell_type": "code",
   "execution_count": null,
   "metadata": {},
   "outputs": [],
   "source": [
    "# Implement the final model(s)\n",
    "# Example: model = YourChosenModel(best_hyperparameters)\n",
    "# model.fit(X_train, y_train)\n"
   ]
  },
  {
   "cell_type": "markdown",
   "metadata": {},
   "source": [
    "## Evaluation Metrics\n",
    "\n",
    "[Clearly specify which metrics you'll use to evaluate the model performance, and why you've chosen these metrics.]\n"
   ]
  },
  {
   "cell_type": "code",
   "metadata": {
    "ExecuteTime": {
     "end_time": "2025-02-06T20:00:36.479783Z",
     "start_time": "2025-02-06T20:00:01.933469Z"
    }
   },
   "source": "y_pred = trainer.predict(datamodule=datamodule)",
   "outputs": [
    {
     "name": "stderr",
     "output_type": "stream",
     "text": [
      "C:\\Users\\leosi\\PycharmProjects\\ACDC_AI4Imaging\\.venv\\Lib\\site-packages\\pytorch_lightning\\trainer\\connectors\\checkpoint_connector.py:145: `.predict(ckpt_path=None)` was called without a model. The best model of the previous `fit` call will be used. You can pass `.predict(ckpt_path='best')` to use the best model or `.predict(ckpt_path='last')` to use the last model. If you pass a value, this warning will be silenced.\n",
      "Restoring states from the checkpoint path at lightning_logs\\lightning_logs\\version_18\\checkpoints\\epoch=79-step=1280.ckpt\n",
      "LOCAL_RANK: 0 - CUDA_VISIBLE_DEVICES: [0]\n",
      "Loaded model weights from the checkpoint at lightning_logs\\lightning_logs\\version_18\\checkpoints\\epoch=79-step=1280.ckpt\n",
      "C:\\Users\\leosi\\PycharmProjects\\ACDC_AI4Imaging\\.venv\\Lib\\site-packages\\pytorch_lightning\\trainer\\connectors\\data_connector.py:420: Consider setting `persistent_workers=True` in 'predict_dataloader' to speed up the dataloader worker initialization.\n"
     ]
    },
    {
     "data": {
      "text/plain": [
       "Output()"
      ],
      "application/vnd.jupyter.widget-view+json": {
       "version_major": 2,
       "version_minor": 0,
       "model_id": "99300fdc3a9a4330a6ad06b2e302e994"
      }
     },
     "metadata": {},
     "output_type": "display_data"
    }
   ],
   "execution_count": 260
  },
  {
   "metadata": {
    "ExecuteTime": {
     "end_time": "2025-02-06T20:05:41.214082Z",
     "start_time": "2025-02-06T20:05:40.960963Z"
    }
   },
   "cell_type": "code",
   "source": "datamodule.labels",
   "outputs": [
    {
     "data": {
      "text/plain": [
       "['NOR', 'MINF', 'DCM', 'HCM', 'RV']"
      ]
     },
     "execution_count": 272,
     "metadata": {},
     "output_type": "execute_result"
    }
   ],
   "execution_count": 272
  },
  {
   "metadata": {
    "ExecuteTime": {
     "end_time": "2025-02-06T20:11:32.839994Z",
     "start_time": "2025-02-06T20:11:32.564870Z"
    }
   },
   "cell_type": "code",
   "source": [
    "labels = [datamodule.labels[k] for k in torch.stack(y_pred).squeeze().argmax(dim=1).tolist()]\n",
    "pd.Series(labels, index=data_helper.load_all_patients(\"../data/test\", return_df=True).index, name=\"label\").to_csv(\"submission.csv\")"
   ],
   "outputs": [],
   "execution_count": 283
  },
  {
   "cell_type": "markdown",
   "metadata": {},
   "source": [
    "## Comparative Analysis\n",
    "\n",
    "[Compare the performance of your model(s) against the baseline model. Discuss any improvements or setbacks and the reasons behind them.]\n"
   ]
  },
  {
   "cell_type": "code",
   "execution_count": null,
   "metadata": {},
   "outputs": [],
   "source": [
    "# Comparative Analysis code (if applicable)\n",
    "# Example: comparing accuracy of the baseline model and the new model\n",
    "# print(f\"Baseline Model Accuracy: {baseline_accuracy}, New Model Accuracy: {new_model_accuracy}\")\n"
   ]
  }
 ],
 "metadata": {
  "language_info": {
   "name": "python"
  },
  "kernelspec": {
   "name": "python3",
   "language": "python",
   "display_name": "Python 3 (ipykernel)"
  }
 },
 "nbformat": 4,
 "nbformat_minor": 2
}
